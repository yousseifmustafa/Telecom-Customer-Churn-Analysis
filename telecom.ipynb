{
 "cells": [
  {
   "cell_type": "markdown",
   "id": "a08b56a7",
   "metadata": {},
   "source": [
    "##  Step 1: Data Loading and Initial Overview"
   ]
  },
  {
   "cell_type": "code",
   "execution_count": 95,
   "id": "11229ee9",
   "metadata": {},
   "outputs": [],
   "source": [
    "import pandas as pd\n",
    "import seaborn as sns\n",
    "import matplotlib.pyplot as plt\n",
    "import warnings\n",
    "\n",
    "warnings.filterwarnings('ignore')"
   ]
  },
  {
   "cell_type": "code",
   "execution_count": 96,
   "id": "25c230a0",
   "metadata": {},
   "outputs": [],
   "source": [
    "df_main = pd.read_csv(\"Dataset/Telco-Customer-Churn.csv\")\n",
    "df_demo = pd.read_csv(\"Dataset/Telco_customer_churn_demographics.csv\")\n",
    "df_loc = pd.read_csv(\"Dataset/Telco_customer_churn_location.csv\")\n",
    "df_pop = pd.read_csv(\"Dataset/Telco_customer_churn_population.csv\")\n",
    "df_service = pd.read_csv(\"Dataset/Telco_customer_churn_services.csv\")\n",
    "df_churn_stat = pd.read_csv(\"Dataset/Telco_customer_churn_status.csv\")"
   ]
  },
  {
   "cell_type": "markdown",
   "id": "e56583be",
   "metadata": {},
   "source": [
    "##  Step 2: Data Merging"
   ]
  },
  {
   "cell_type": "code",
   "execution_count": 97,
   "id": "6cd72470",
   "metadata": {},
   "outputs": [],
   "source": [
    "\n",
    "df_main.columns = df_main.columns.str.strip().str.title().str.replace(\" \", \"\")\n",
    "df_demo.columns = df_demo.columns.str.strip().str.replace(\" \", \"\").str.title()\n",
    "df_loc.columns = df_loc.columns.str.strip().str.replace(\" \", \"\").str.title()\n",
    "df_service.columns = df_service.columns.str.strip().str.replace(\" \", \"\").str.title()\n",
    "df_churn_stat.columns = df_churn_stat.columns.str.strip().str.replace(\" \", \"\").str.title()\n",
    "df_pop.columns = df_pop.columns.str.strip().str.replace(\" \", \"\").str.title()\n",
    "\n",
    "\n",
    "# Merge datasets on Customerid\n",
    "df_merged = pd.merge(df_main, df_demo, on=\"Customerid\", how=\"left\")\n",
    "df_merged = pd.merge(df_merged, df_loc, on=\"Customerid\", how=\"left\")\n",
    "df_merged = pd.merge(df_merged, df_service ,on=\"Customerid\", how=\"left\")\n",
    "df_merged = pd.merge(df_merged, df_churn_stat,on=\"Customerid\", how=\"left\")\n",
    "\n",
    "# Merge with population data on Zipcode\n",
    "df_merged = pd.merge(df_merged, df_pop,on=\"Zipcode\", how=\"left\")\n",
    "\n"
   ]
  },
  {
   "cell_type": "markdown",
   "id": "117465f3",
   "metadata": {},
   "source": [
    "# Exploratory Data Analysis (EDA)"
   ]
  },
  {
   "cell_type": "code",
   "execution_count": 98,
   "id": "717efe5c",
   "metadata": {},
   "outputs": [
    {
     "data": {
      "text/plain": [
       "(7043, 81)"
      ]
     },
     "execution_count": 98,
     "metadata": {},
     "output_type": "execute_result"
    }
   ],
   "source": [
    "df_merged.shape"
   ]
  },
  {
   "cell_type": "code",
   "execution_count": 99,
   "id": "4a3c183c",
   "metadata": {},
   "outputs": [
    {
     "data": {
      "application/vnd.microsoft.datawrangler.viewer.v0+json": {
       "columns": [
        {
         "name": "index",
         "rawType": "int64",
         "type": "integer"
        },
        {
         "name": "Customerid",
         "rawType": "object",
         "type": "string"
        },
        {
         "name": "Gender_x",
         "rawType": "object",
         "type": "string"
        },
        {
         "name": "Seniorcitizen_x",
         "rawType": "int64",
         "type": "integer"
        },
        {
         "name": "Partner",
         "rawType": "object",
         "type": "string"
        },
        {
         "name": "Dependents_x",
         "rawType": "object",
         "type": "string"
        },
        {
         "name": "Tenure",
         "rawType": "int64",
         "type": "integer"
        },
        {
         "name": "Phoneservice_x",
         "rawType": "object",
         "type": "string"
        },
        {
         "name": "Multiplelines_x",
         "rawType": "object",
         "type": "string"
        },
        {
         "name": "Internetservice_x",
         "rawType": "object",
         "type": "string"
        },
        {
         "name": "Onlinesecurity_x",
         "rawType": "object",
         "type": "string"
        },
        {
         "name": "Onlinebackup_x",
         "rawType": "object",
         "type": "string"
        },
        {
         "name": "Deviceprotection",
         "rawType": "object",
         "type": "string"
        },
        {
         "name": "Techsupport",
         "rawType": "object",
         "type": "string"
        },
        {
         "name": "Streamingtv_x",
         "rawType": "object",
         "type": "string"
        },
        {
         "name": "Streamingmovies_x",
         "rawType": "object",
         "type": "string"
        },
        {
         "name": "Contract_x",
         "rawType": "object",
         "type": "string"
        },
        {
         "name": "Paperlessbilling_x",
         "rawType": "object",
         "type": "string"
        },
        {
         "name": "Paymentmethod_x",
         "rawType": "object",
         "type": "string"
        },
        {
         "name": "Monthlycharges",
         "rawType": "float64",
         "type": "float"
        },
        {
         "name": "Totalcharges_x",
         "rawType": "object",
         "type": "string"
        },
        {
         "name": "Churn",
         "rawType": "object",
         "type": "string"
        },
        {
         "name": "Count_x",
         "rawType": "int64",
         "type": "integer"
        },
        {
         "name": "Gender_y",
         "rawType": "object",
         "type": "string"
        },
        {
         "name": "Age",
         "rawType": "int64",
         "type": "integer"
        },
        {
         "name": "Under30",
         "rawType": "object",
         "type": "string"
        },
        {
         "name": "Seniorcitizen_y",
         "rawType": "object",
         "type": "string"
        },
        {
         "name": "Married",
         "rawType": "object",
         "type": "string"
        },
        {
         "name": "Dependents_y",
         "rawType": "object",
         "type": "string"
        },
        {
         "name": "Numberofdependents",
         "rawType": "int64",
         "type": "integer"
        },
        {
         "name": "Locationid",
         "rawType": "object",
         "type": "string"
        },
        {
         "name": "Count_y",
         "rawType": "int64",
         "type": "integer"
        },
        {
         "name": "Country",
         "rawType": "object",
         "type": "string"
        },
        {
         "name": "State",
         "rawType": "object",
         "type": "string"
        },
        {
         "name": "City",
         "rawType": "object",
         "type": "string"
        },
        {
         "name": "Zipcode",
         "rawType": "int64",
         "type": "integer"
        },
        {
         "name": "Latlong",
         "rawType": "object",
         "type": "string"
        },
        {
         "name": "Latitude",
         "rawType": "float64",
         "type": "float"
        },
        {
         "name": "Longitude",
         "rawType": "float64",
         "type": "float"
        },
        {
         "name": "Serviceid",
         "rawType": "object",
         "type": "string"
        },
        {
         "name": "Count_x",
         "rawType": "int64",
         "type": "integer"
        },
        {
         "name": "Quarter_x",
         "rawType": "object",
         "type": "string"
        },
        {
         "name": "Referredafriend",
         "rawType": "object",
         "type": "string"
        },
        {
         "name": "Numberofreferrals",
         "rawType": "int64",
         "type": "integer"
        },
        {
         "name": "Tenureinmonths",
         "rawType": "int64",
         "type": "integer"
        },
        {
         "name": "Offer",
         "rawType": "object",
         "type": "string"
        },
        {
         "name": "Phoneservice_y",
         "rawType": "object",
         "type": "string"
        },
        {
         "name": "Avgmonthlylongdistancecharges",
         "rawType": "float64",
         "type": "float"
        },
        {
         "name": "Multiplelines_y",
         "rawType": "object",
         "type": "string"
        },
        {
         "name": "Internetservice_y",
         "rawType": "object",
         "type": "string"
        },
        {
         "name": "Internettype",
         "rawType": "object",
         "type": "string"
        },
        {
         "name": "Avgmonthlygbdownload",
         "rawType": "int64",
         "type": "integer"
        },
        {
         "name": "Onlinesecurity_y",
         "rawType": "object",
         "type": "string"
        },
        {
         "name": "Onlinebackup_y",
         "rawType": "object",
         "type": "string"
        },
        {
         "name": "Deviceprotectionplan",
         "rawType": "object",
         "type": "string"
        },
        {
         "name": "Premiumtechsupport",
         "rawType": "object",
         "type": "string"
        },
        {
         "name": "Streamingtv_y",
         "rawType": "object",
         "type": "string"
        },
        {
         "name": "Streamingmovies_y",
         "rawType": "object",
         "type": "string"
        },
        {
         "name": "Streamingmusic",
         "rawType": "object",
         "type": "string"
        },
        {
         "name": "Unlimiteddata",
         "rawType": "object",
         "type": "string"
        },
        {
         "name": "Contract_y",
         "rawType": "object",
         "type": "string"
        },
        {
         "name": "Paperlessbilling_y",
         "rawType": "object",
         "type": "string"
        },
        {
         "name": "Paymentmethod_y",
         "rawType": "object",
         "type": "string"
        },
        {
         "name": "Monthlycharge",
         "rawType": "float64",
         "type": "float"
        },
        {
         "name": "Totalcharges_y",
         "rawType": "float64",
         "type": "float"
        },
        {
         "name": "Totalrefunds",
         "rawType": "float64",
         "type": "float"
        },
        {
         "name": "Totalextradatacharges",
         "rawType": "int64",
         "type": "integer"
        },
        {
         "name": "Totallongdistancecharges",
         "rawType": "float64",
         "type": "float"
        },
        {
         "name": "Totalrevenue",
         "rawType": "float64",
         "type": "float"
        },
        {
         "name": "Statusid",
         "rawType": "object",
         "type": "string"
        },
        {
         "name": "Count_y",
         "rawType": "int64",
         "type": "integer"
        },
        {
         "name": "Quarter_y",
         "rawType": "object",
         "type": "string"
        },
        {
         "name": "Satisfactionscore",
         "rawType": "int64",
         "type": "integer"
        },
        {
         "name": "Customerstatus",
         "rawType": "object",
         "type": "string"
        },
        {
         "name": "Churnlabel",
         "rawType": "object",
         "type": "string"
        },
        {
         "name": "Churnvalue",
         "rawType": "int64",
         "type": "integer"
        },
        {
         "name": "Churnscore",
         "rawType": "int64",
         "type": "integer"
        },
        {
         "name": "Cltv",
         "rawType": "int64",
         "type": "integer"
        },
        {
         "name": "Churncategory",
         "rawType": "object",
         "type": "string"
        },
        {
         "name": "Churnreason",
         "rawType": "object",
         "type": "string"
        },
        {
         "name": "Id",
         "rawType": "int64",
         "type": "integer"
        },
        {
         "name": "Population",
         "rawType": "object",
         "type": "string"
        }
       ],
       "ref": "def7eeb7-feec-4f71-837a-b66a7afc49bc",
       "rows": [
        [
         "0",
         "7590-VHVEG",
         "Female",
         "0",
         "Yes",
         "No",
         "1",
         "No",
         "No phone service",
         "DSL",
         "No",
         "Yes",
         "No",
         "No",
         "No",
         "No",
         "Month-to-month",
         "Yes",
         "Electronic check",
         "29.85",
         "29.85",
         "No",
         "1",
         "Female",
         "36",
         "No",
         "No",
         "Yes",
         "No",
         "0",
         "KQVCVY8549",
         "1",
         "United States",
         "California",
         "Los Angeles",
         "90001",
         "33.973616, -118.24902",
         "33.973616",
         "-118.24902",
         "FRZCGDEGJ1299",
         "1",
         "Q3",
         "No",
         "0",
         "1",
         "Offer E",
         "No",
         "0.0",
         "No",
         "Yes",
         "DSL",
         "10",
         "No",
         "Yes",
         "No",
         "No",
         "No",
         "No",
         "No",
         "Yes",
         "Month-to-Month",
         "Yes",
         "Bank Withdrawal",
         "29.85",
         "29.85",
         "0.0",
         "0",
         "0.0",
         "29.85",
         "GODTMI5747",
         "1",
         "Q3",
         "3",
         "Joined",
         "No",
         "0",
         "27",
         "3964",
         null,
         null,
         "1",
         "54,492"
        ],
        [
         "1",
         "5575-GNVDE",
         "Male",
         "0",
         "No",
         "No",
         "34",
         "Yes",
         "No",
         "DSL",
         "Yes",
         "No",
         "Yes",
         "No",
         "No",
         "No",
         "One year",
         "No",
         "Mailed check",
         "56.95",
         "1889.5",
         "No",
         "1",
         "Male",
         "46",
         "No",
         "No",
         "No",
         "No",
         "0",
         "PIYXEN8915",
         "1",
         "United States",
         "California",
         "Los Angeles",
         "90002",
         "33.949255, -118.246978",
         "33.949255",
         "-118.246978",
         "ZYMHBYTQE1796",
         "1",
         "Q3",
         "No",
         "0",
         "34",
         "None",
         "Yes",
         "17.09",
         "No",
         "Yes",
         "DSL",
         "16",
         "Yes",
         "No",
         "Yes",
         "No",
         "No",
         "No",
         "No",
         "Yes",
         "One Year",
         "No",
         "Mailed Check",
         "56.95",
         "1889.5",
         "0.0",
         "0",
         "581.06",
         "2470.56",
         "JXJTVI9837",
         "1",
         "Q3",
         "3",
         "Stayed",
         "No",
         "0",
         "61",
         "3441",
         null,
         null,
         "2",
         "44,586"
        ],
        [
         "2",
         "3668-QPYBK",
         "Male",
         "0",
         "No",
         "No",
         "2",
         "Yes",
         "No",
         "DSL",
         "Yes",
         "Yes",
         "No",
         "No",
         "No",
         "No",
         "Month-to-month",
         "Yes",
         "Mailed check",
         "53.85",
         "108.15",
         "Yes",
         "1",
         "Male",
         "37",
         "No",
         "No",
         "No",
         "No",
         "0",
         "PZZUIT6837",
         "1",
         "United States",
         "California",
         "Los Angeles",
         "90003",
         "33.964131, -118.272783",
         "33.964131",
         "-118.272783",
         "ZLZTZWPWE3351",
         "1",
         "Q3",
         "No",
         "0",
         "2",
         "None",
         "Yes",
         "10.47",
         "No",
         "Yes",
         "DSL",
         "21",
         "Yes",
         "Yes",
         "No",
         "No",
         "No",
         "No",
         "No",
         "Yes",
         "Month-to-Month",
         "Yes",
         "Credit Card",
         "53.85",
         "108.15",
         "0.0",
         "0",
         "20.94",
         "129.09",
         "SUDNGT6444",
         "1",
         "Q3",
         "1",
         "Churned",
         "Yes",
         "1",
         "86",
         "3239",
         "Competitor",
         "Competitor made better offer",
         "3",
         "58,198"
        ],
        [
         "3",
         "7795-CFOCW",
         "Male",
         "0",
         "No",
         "No",
         "45",
         "No",
         "No phone service",
         "DSL",
         "Yes",
         "No",
         "Yes",
         "Yes",
         "No",
         "No",
         "One year",
         "No",
         "Bank transfer (automatic)",
         "42.3",
         "1840.75",
         "No",
         "1",
         "Male",
         "53",
         "No",
         "No",
         "No",
         "No",
         "0",
         "KVBPAB7894",
         "1",
         "United States",
         "California",
         "Los Angeles",
         "90004",
         "34.076259, -118.310715",
         "34.076259",
         "-118.31071499999999",
         "KXVIIYGAJ8877",
         "1",
         "Q3",
         "No",
         "0",
         "45",
         "None",
         "No",
         "0.0",
         "No",
         "Yes",
         "DSL",
         "10",
         "Yes",
         "No",
         "Yes",
         "Yes",
         "No",
         "No",
         "No",
         "Yes",
         "One Year",
         "No",
         "Bank Withdrawal",
         "42.3",
         "1840.75",
         "0.0",
         "0",
         "0.0",
         "1840.75",
         "RJWCXJ6879",
         "1",
         "Q3",
         "3",
         "Stayed",
         "No",
         "0",
         "66",
         "4307",
         null,
         null,
         "4",
         "67,852"
        ],
        [
         "4",
         "9237-HQITU",
         "Female",
         "0",
         "No",
         "No",
         "2",
         "Yes",
         "No",
         "Fiber optic",
         "No",
         "No",
         "No",
         "No",
         "No",
         "No",
         "Month-to-month",
         "Yes",
         "Electronic check",
         "70.7",
         "151.65",
         "Yes",
         "1",
         "Female",
         "19",
         "Yes",
         "No",
         "No",
         "Yes",
         "2",
         "CKNALR2542",
         "1",
         "United States",
         "California",
         "Los Angeles",
         "90005",
         "34.059281, -118.30742",
         "34.059281",
         "-118.30742",
         "GXJVSQIYH4715",
         "1",
         "Q3",
         "No",
         "0",
         "2",
         "None",
         "Yes",
         "9.12",
         "No",
         "Yes",
         "Fiber Optic",
         "51",
         "No",
         "No",
         "No",
         "No",
         "No",
         "No",
         "No",
         "Yes",
         "Month-to-Month",
         "Yes",
         "Bank Withdrawal",
         "70.7",
         "151.65",
         "0.0",
         "0",
         "18.24",
         "169.89",
         "KZSZDV8891",
         "1",
         "Q3",
         "2",
         "Churned",
         "Yes",
         "1",
         "67",
         "2701",
         "Other",
         "Moved",
         "5",
         "43,019"
        ]
       ],
       "shape": {
        "columns": 81,
        "rows": 5
       }
      },
      "text/html": [
       "<div>\n",
       "<style scoped>\n",
       "    .dataframe tbody tr th:only-of-type {\n",
       "        vertical-align: middle;\n",
       "    }\n",
       "\n",
       "    .dataframe tbody tr th {\n",
       "        vertical-align: top;\n",
       "    }\n",
       "\n",
       "    .dataframe thead th {\n",
       "        text-align: right;\n",
       "    }\n",
       "</style>\n",
       "<table border=\"1\" class=\"dataframe\">\n",
       "  <thead>\n",
       "    <tr style=\"text-align: right;\">\n",
       "      <th></th>\n",
       "      <th>Customerid</th>\n",
       "      <th>Gender_x</th>\n",
       "      <th>Seniorcitizen_x</th>\n",
       "      <th>Partner</th>\n",
       "      <th>Dependents_x</th>\n",
       "      <th>Tenure</th>\n",
       "      <th>Phoneservice_x</th>\n",
       "      <th>Multiplelines_x</th>\n",
       "      <th>Internetservice_x</th>\n",
       "      <th>Onlinesecurity_x</th>\n",
       "      <th>...</th>\n",
       "      <th>Satisfactionscore</th>\n",
       "      <th>Customerstatus</th>\n",
       "      <th>Churnlabel</th>\n",
       "      <th>Churnvalue</th>\n",
       "      <th>Churnscore</th>\n",
       "      <th>Cltv</th>\n",
       "      <th>Churncategory</th>\n",
       "      <th>Churnreason</th>\n",
       "      <th>Id</th>\n",
       "      <th>Population</th>\n",
       "    </tr>\n",
       "  </thead>\n",
       "  <tbody>\n",
       "    <tr>\n",
       "      <th>0</th>\n",
       "      <td>7590-VHVEG</td>\n",
       "      <td>Female</td>\n",
       "      <td>0</td>\n",
       "      <td>Yes</td>\n",
       "      <td>No</td>\n",
       "      <td>1</td>\n",
       "      <td>No</td>\n",
       "      <td>No phone service</td>\n",
       "      <td>DSL</td>\n",
       "      <td>No</td>\n",
       "      <td>...</td>\n",
       "      <td>3</td>\n",
       "      <td>Joined</td>\n",
       "      <td>No</td>\n",
       "      <td>0</td>\n",
       "      <td>27</td>\n",
       "      <td>3964</td>\n",
       "      <td>NaN</td>\n",
       "      <td>NaN</td>\n",
       "      <td>1</td>\n",
       "      <td>54,492</td>\n",
       "    </tr>\n",
       "    <tr>\n",
       "      <th>1</th>\n",
       "      <td>5575-GNVDE</td>\n",
       "      <td>Male</td>\n",
       "      <td>0</td>\n",
       "      <td>No</td>\n",
       "      <td>No</td>\n",
       "      <td>34</td>\n",
       "      <td>Yes</td>\n",
       "      <td>No</td>\n",
       "      <td>DSL</td>\n",
       "      <td>Yes</td>\n",
       "      <td>...</td>\n",
       "      <td>3</td>\n",
       "      <td>Stayed</td>\n",
       "      <td>No</td>\n",
       "      <td>0</td>\n",
       "      <td>61</td>\n",
       "      <td>3441</td>\n",
       "      <td>NaN</td>\n",
       "      <td>NaN</td>\n",
       "      <td>2</td>\n",
       "      <td>44,586</td>\n",
       "    </tr>\n",
       "    <tr>\n",
       "      <th>2</th>\n",
       "      <td>3668-QPYBK</td>\n",
       "      <td>Male</td>\n",
       "      <td>0</td>\n",
       "      <td>No</td>\n",
       "      <td>No</td>\n",
       "      <td>2</td>\n",
       "      <td>Yes</td>\n",
       "      <td>No</td>\n",
       "      <td>DSL</td>\n",
       "      <td>Yes</td>\n",
       "      <td>...</td>\n",
       "      <td>1</td>\n",
       "      <td>Churned</td>\n",
       "      <td>Yes</td>\n",
       "      <td>1</td>\n",
       "      <td>86</td>\n",
       "      <td>3239</td>\n",
       "      <td>Competitor</td>\n",
       "      <td>Competitor made better offer</td>\n",
       "      <td>3</td>\n",
       "      <td>58,198</td>\n",
       "    </tr>\n",
       "    <tr>\n",
       "      <th>3</th>\n",
       "      <td>7795-CFOCW</td>\n",
       "      <td>Male</td>\n",
       "      <td>0</td>\n",
       "      <td>No</td>\n",
       "      <td>No</td>\n",
       "      <td>45</td>\n",
       "      <td>No</td>\n",
       "      <td>No phone service</td>\n",
       "      <td>DSL</td>\n",
       "      <td>Yes</td>\n",
       "      <td>...</td>\n",
       "      <td>3</td>\n",
       "      <td>Stayed</td>\n",
       "      <td>No</td>\n",
       "      <td>0</td>\n",
       "      <td>66</td>\n",
       "      <td>4307</td>\n",
       "      <td>NaN</td>\n",
       "      <td>NaN</td>\n",
       "      <td>4</td>\n",
       "      <td>67,852</td>\n",
       "    </tr>\n",
       "    <tr>\n",
       "      <th>4</th>\n",
       "      <td>9237-HQITU</td>\n",
       "      <td>Female</td>\n",
       "      <td>0</td>\n",
       "      <td>No</td>\n",
       "      <td>No</td>\n",
       "      <td>2</td>\n",
       "      <td>Yes</td>\n",
       "      <td>No</td>\n",
       "      <td>Fiber optic</td>\n",
       "      <td>No</td>\n",
       "      <td>...</td>\n",
       "      <td>2</td>\n",
       "      <td>Churned</td>\n",
       "      <td>Yes</td>\n",
       "      <td>1</td>\n",
       "      <td>67</td>\n",
       "      <td>2701</td>\n",
       "      <td>Other</td>\n",
       "      <td>Moved</td>\n",
       "      <td>5</td>\n",
       "      <td>43,019</td>\n",
       "    </tr>\n",
       "  </tbody>\n",
       "</table>\n",
       "<p>5 rows × 81 columns</p>\n",
       "</div>"
      ],
      "text/plain": [
       "   Customerid Gender_x  Seniorcitizen_x Partner Dependents_x  Tenure  \\\n",
       "0  7590-VHVEG   Female                0     Yes           No       1   \n",
       "1  5575-GNVDE     Male                0      No           No      34   \n",
       "2  3668-QPYBK     Male                0      No           No       2   \n",
       "3  7795-CFOCW     Male                0      No           No      45   \n",
       "4  9237-HQITU   Female                0      No           No       2   \n",
       "\n",
       "  Phoneservice_x   Multiplelines_x Internetservice_x Onlinesecurity_x  ...  \\\n",
       "0             No  No phone service               DSL               No  ...   \n",
       "1            Yes                No               DSL              Yes  ...   \n",
       "2            Yes                No               DSL              Yes  ...   \n",
       "3             No  No phone service               DSL              Yes  ...   \n",
       "4            Yes                No       Fiber optic               No  ...   \n",
       "\n",
       "  Satisfactionscore Customerstatus Churnlabel Churnvalue Churnscore  Cltv  \\\n",
       "0                 3         Joined         No          0         27  3964   \n",
       "1                 3         Stayed         No          0         61  3441   \n",
       "2                 1        Churned        Yes          1         86  3239   \n",
       "3                 3         Stayed         No          0         66  4307   \n",
       "4                 2        Churned        Yes          1         67  2701   \n",
       "\n",
       "  Churncategory                   Churnreason  Id Population  \n",
       "0           NaN                           NaN   1     54,492  \n",
       "1           NaN                           NaN   2     44,586  \n",
       "2    Competitor  Competitor made better offer   3     58,198  \n",
       "3           NaN                           NaN   4     67,852  \n",
       "4         Other                         Moved   5     43,019  \n",
       "\n",
       "[5 rows x 81 columns]"
      ]
     },
     "execution_count": 99,
     "metadata": {},
     "output_type": "execute_result"
    }
   ],
   "source": [
    "df_merged.head()"
   ]
  },
  {
   "cell_type": "code",
   "execution_count": 100,
   "id": "3e7142fd",
   "metadata": {},
   "outputs": [
    {
     "data": {
      "text/plain": [
       "Index(['Customerid', 'Gender_x', 'Seniorcitizen_x', 'Partner', 'Dependents_x',\n",
       "       'Tenure', 'Phoneservice_x', 'Multiplelines_x', 'Internetservice_x',\n",
       "       'Onlinesecurity_x', 'Onlinebackup_x', 'Deviceprotection', 'Techsupport',\n",
       "       'Streamingtv_x', 'Streamingmovies_x', 'Contract_x',\n",
       "       'Paperlessbilling_x', 'Paymentmethod_x', 'Monthlycharges',\n",
       "       'Totalcharges_x', 'Churn', 'Count_x', 'Gender_y', 'Age', 'Under30',\n",
       "       'Seniorcitizen_y', 'Married', 'Dependents_y', 'Numberofdependents',\n",
       "       'Locationid', 'Count_y', 'Country', 'State', 'City', 'Zipcode',\n",
       "       'Latlong', 'Latitude', 'Longitude', 'Serviceid', 'Count_x', 'Quarter_x',\n",
       "       'Referredafriend', 'Numberofreferrals', 'Tenureinmonths', 'Offer',\n",
       "       'Phoneservice_y', 'Avgmonthlylongdistancecharges', 'Multiplelines_y',\n",
       "       'Internetservice_y', 'Internettype', 'Avgmonthlygbdownload',\n",
       "       'Onlinesecurity_y', 'Onlinebackup_y', 'Deviceprotectionplan',\n",
       "       'Premiumtechsupport', 'Streamingtv_y', 'Streamingmovies_y',\n",
       "       'Streamingmusic', 'Unlimiteddata', 'Contract_y', 'Paperlessbilling_y',\n",
       "       'Paymentmethod_y', 'Monthlycharge', 'Totalcharges_y', 'Totalrefunds',\n",
       "       'Totalextradatacharges', 'Totallongdistancecharges', 'Totalrevenue',\n",
       "       'Statusid', 'Count_y', 'Quarter_y', 'Satisfactionscore',\n",
       "       'Customerstatus', 'Churnlabel', 'Churnvalue', 'Churnscore', 'Cltv',\n",
       "       'Churncategory', 'Churnreason', 'Id', 'Population'],\n",
       "      dtype='object')"
      ]
     },
     "execution_count": 100,
     "metadata": {},
     "output_type": "execute_result"
    }
   ],
   "source": [
    "df_merged.columns"
   ]
  },
  {
   "cell_type": "code",
   "execution_count": 101,
   "id": "8e2891bf",
   "metadata": {},
   "outputs": [
    {
     "name": "stdout",
     "output_type": "stream",
     "text": [
      "<class 'pandas.core.frame.DataFrame'>\n",
      "Int64Index: 7043 entries, 0 to 7042\n",
      "Data columns (total 81 columns):\n",
      " #   Column                         Non-Null Count  Dtype  \n",
      "---  ------                         --------------  -----  \n",
      " 0   Customerid                     7043 non-null   object \n",
      " 1   Gender_x                       7043 non-null   object \n",
      " 2   Seniorcitizen_x                7043 non-null   int64  \n",
      " 3   Partner                        7043 non-null   object \n",
      " 4   Dependents_x                   7043 non-null   object \n",
      " 5   Tenure                         7043 non-null   int64  \n",
      " 6   Phoneservice_x                 7043 non-null   object \n",
      " 7   Multiplelines_x                7043 non-null   object \n",
      " 8   Internetservice_x              7043 non-null   object \n",
      " 9   Onlinesecurity_x               7043 non-null   object \n",
      " 10  Onlinebackup_x                 7043 non-null   object \n",
      " 11  Deviceprotection               7043 non-null   object \n",
      " 12  Techsupport                    7043 non-null   object \n",
      " 13  Streamingtv_x                  7043 non-null   object \n",
      " 14  Streamingmovies_x              7043 non-null   object \n",
      " 15  Contract_x                     7043 non-null   object \n",
      " 16  Paperlessbilling_x             7043 non-null   object \n",
      " 17  Paymentmethod_x                7043 non-null   object \n",
      " 18  Monthlycharges                 7043 non-null   float64\n",
      " 19  Totalcharges_x                 7043 non-null   object \n",
      " 20  Churn                          7043 non-null   object \n",
      " 21  Count_x                        7043 non-null   int64  \n",
      " 22  Gender_y                       7043 non-null   object \n",
      " 23  Age                            7043 non-null   int64  \n",
      " 24  Under30                        7043 non-null   object \n",
      " 25  Seniorcitizen_y                7043 non-null   object \n",
      " 26  Married                        7043 non-null   object \n",
      " 27  Dependents_y                   7043 non-null   object \n",
      " 28  Numberofdependents             7043 non-null   int64  \n",
      " 29  Locationid                     7043 non-null   object \n",
      " 30  Count_y                        7043 non-null   int64  \n",
      " 31  Country                        7043 non-null   object \n",
      " 32  State                          7043 non-null   object \n",
      " 33  City                           7043 non-null   object \n",
      " 34  Zipcode                        7043 non-null   int64  \n",
      " 35  Latlong                        7043 non-null   object \n",
      " 36  Latitude                       7043 non-null   float64\n",
      " 37  Longitude                      7043 non-null   float64\n",
      " 38  Serviceid                      7043 non-null   object \n",
      " 39  Count_x                        7043 non-null   int64  \n",
      " 40  Quarter_x                      7043 non-null   object \n",
      " 41  Referredafriend                7043 non-null   object \n",
      " 42  Numberofreferrals              7043 non-null   int64  \n",
      " 43  Tenureinmonths                 7043 non-null   int64  \n",
      " 44  Offer                          7043 non-null   object \n",
      " 45  Phoneservice_y                 7043 non-null   object \n",
      " 46  Avgmonthlylongdistancecharges  7043 non-null   float64\n",
      " 47  Multiplelines_y                7043 non-null   object \n",
      " 48  Internetservice_y              7043 non-null   object \n",
      " 49  Internettype                   7043 non-null   object \n",
      " 50  Avgmonthlygbdownload           7043 non-null   int64  \n",
      " 51  Onlinesecurity_y               7043 non-null   object \n",
      " 52  Onlinebackup_y                 7043 non-null   object \n",
      " 53  Deviceprotectionplan           7043 non-null   object \n",
      " 54  Premiumtechsupport             7043 non-null   object \n",
      " 55  Streamingtv_y                  7043 non-null   object \n",
      " 56  Streamingmovies_y              7043 non-null   object \n",
      " 57  Streamingmusic                 7043 non-null   object \n",
      " 58  Unlimiteddata                  7043 non-null   object \n",
      " 59  Contract_y                     7043 non-null   object \n",
      " 60  Paperlessbilling_y             7043 non-null   object \n",
      " 61  Paymentmethod_y                7043 non-null   object \n",
      " 62  Monthlycharge                  7043 non-null   float64\n",
      " 63  Totalcharges_y                 7043 non-null   float64\n",
      " 64  Totalrefunds                   7043 non-null   float64\n",
      " 65  Totalextradatacharges          7043 non-null   int64  \n",
      " 66  Totallongdistancecharges       7043 non-null   float64\n",
      " 67  Totalrevenue                   7043 non-null   float64\n",
      " 68  Statusid                       7043 non-null   object \n",
      " 69  Count_y                        7043 non-null   int64  \n",
      " 70  Quarter_y                      7043 non-null   object \n",
      " 71  Satisfactionscore              7043 non-null   int64  \n",
      " 72  Customerstatus                 7043 non-null   object \n",
      " 73  Churnlabel                     7043 non-null   object \n",
      " 74  Churnvalue                     7043 non-null   int64  \n",
      " 75  Churnscore                     7043 non-null   int64  \n",
      " 76  Cltv                           7043 non-null   int64  \n",
      " 77  Churncategory                  1869 non-null   object \n",
      " 78  Churnreason                    1869 non-null   object \n",
      " 79  Id                             7043 non-null   int64  \n",
      " 80  Population                     7043 non-null   object \n",
      "dtypes: float64(9), int64(18), object(54)\n",
      "memory usage: 4.4+ MB\n"
     ]
    }
   ],
   "source": [
    "\n",
    "df_merged.info()"
   ]
  },
  {
   "cell_type": "code",
   "execution_count": 102,
   "id": "44034d74",
   "metadata": {},
   "outputs": [
    {
     "data": {
      "application/vnd.microsoft.datawrangler.viewer.v0+json": {
       "columns": [
        {
         "name": "index",
         "rawType": "object",
         "type": "string"
        },
        {
         "name": "Seniorcitizen_x",
         "rawType": "float64",
         "type": "float"
        },
        {
         "name": "Tenure",
         "rawType": "float64",
         "type": "float"
        },
        {
         "name": "Monthlycharges",
         "rawType": "float64",
         "type": "float"
        },
        {
         "name": "Count_x",
         "rawType": "float64",
         "type": "float"
        },
        {
         "name": "Age",
         "rawType": "float64",
         "type": "float"
        },
        {
         "name": "Numberofdependents",
         "rawType": "float64",
         "type": "float"
        },
        {
         "name": "Count_y",
         "rawType": "float64",
         "type": "float"
        },
        {
         "name": "Zipcode",
         "rawType": "float64",
         "type": "float"
        },
        {
         "name": "Latitude",
         "rawType": "float64",
         "type": "float"
        },
        {
         "name": "Longitude",
         "rawType": "float64",
         "type": "float"
        },
        {
         "name": "Count_x",
         "rawType": "float64",
         "type": "float"
        },
        {
         "name": "Numberofreferrals",
         "rawType": "float64",
         "type": "float"
        },
        {
         "name": "Tenureinmonths",
         "rawType": "float64",
         "type": "float"
        },
        {
         "name": "Avgmonthlylongdistancecharges",
         "rawType": "float64",
         "type": "float"
        },
        {
         "name": "Avgmonthlygbdownload",
         "rawType": "float64",
         "type": "float"
        },
        {
         "name": "Monthlycharge",
         "rawType": "float64",
         "type": "float"
        },
        {
         "name": "Totalcharges_y",
         "rawType": "float64",
         "type": "float"
        },
        {
         "name": "Totalrefunds",
         "rawType": "float64",
         "type": "float"
        },
        {
         "name": "Totalextradatacharges",
         "rawType": "float64",
         "type": "float"
        },
        {
         "name": "Totallongdistancecharges",
         "rawType": "float64",
         "type": "float"
        },
        {
         "name": "Totalrevenue",
         "rawType": "float64",
         "type": "float"
        },
        {
         "name": "Count_y",
         "rawType": "float64",
         "type": "float"
        },
        {
         "name": "Satisfactionscore",
         "rawType": "float64",
         "type": "float"
        },
        {
         "name": "Churnvalue",
         "rawType": "float64",
         "type": "float"
        },
        {
         "name": "Churnscore",
         "rawType": "float64",
         "type": "float"
        },
        {
         "name": "Cltv",
         "rawType": "float64",
         "type": "float"
        },
        {
         "name": "Id",
         "rawType": "float64",
         "type": "float"
        }
       ],
       "ref": "59266788-e786-41f7-8233-606de480548a",
       "rows": [
        [
         "count",
         "7043.0",
         "7043.0",
         "7043.0",
         "7043.0",
         "7043.0",
         "7043.0",
         "7043.0",
         "7043.0",
         "7043.0",
         "7043.0",
         "7043.0",
         "7043.0",
         "7043.0",
         "7043.0",
         "7043.0",
         "7043.0",
         "7043.0",
         "7043.0",
         "7043.0",
         "7043.0",
         "7043.0",
         "7043.0",
         "7043.0",
         "7043.0",
         "7043.0",
         "7043.0",
         "7043.0"
        ],
        [
         "mean",
         "0.1621468124378816",
         "32.37114865824223",
         "64.76169246059918",
         "1.0",
         "46.50972596904728",
         "0.4686923186142269",
         "1.0",
         "93486.07113445975",
         "36.19745482180889",
         "-119.75668367414455",
         "1.0",
         "1.9518671020871787",
         "32.38676700269772",
         "22.958953570921484",
         "20.515405367031093",
         "64.76169246059918",
         "2280.3812636660514",
         "1.9621823086752805",
         "6.860712764446968",
         "749.099261678262",
         "3034.3790558000846",
         "1.0",
         "3.2449240380519666",
         "0.2653698707936959",
         "58.505040465710636",
         "4400.295754650007",
         "784.8012210705665"
        ],
        [
         "std",
         "0.3686116056100131",
         "24.55948102309446",
         "30.090047097678493",
         "0.0",
         "16.750351655102634",
         "0.9628019509440209",
         "0.0",
         "1856.7680449528348",
         "2.468928681585293",
         "2.154425092169477",
         "0.0",
         "3.0011992998901005",
         "24.54206101142553",
         "15.448113345456905",
         "20.418940392245453",
         "30.090047097678493",
         "2266.2204619194617",
         "7.902614384451006",
         "25.1049779997244",
         "846.660054798712",
         "2865.2045415115304",
         "0.0",
         "1.2016571225409585",
         "0.441561305121947",
         "21.170030779815324",
         "1183.05715195252",
         "489.0445079681978"
        ],
        [
         "min",
         "0.0",
         "0.0",
         "18.25",
         "1.0",
         "19.0",
         "0.0",
         "1.0",
         "90001.0",
         "32.555828000000005",
         "-124.301372",
         "1.0",
         "0.0",
         "1.0",
         "0.0",
         "0.0",
         "18.25",
         "18.8",
         "0.0",
         "0.0",
         "0.0",
         "21.36",
         "1.0",
         "1.0",
         "0.0",
         "5.0",
         "2003.0",
         "1.0"
        ],
        [
         "25%",
         "0.0",
         "9.0",
         "35.5",
         "1.0",
         "32.0",
         "0.0",
         "1.0",
         "92101.0",
         "33.990646000000005",
         "-121.78809",
         "1.0",
         "0.0",
         "9.0",
         "9.21",
         "3.0",
         "35.5",
         "400.15",
         "0.0",
         "0.0",
         "70.545",
         "605.61",
         "1.0",
         "3.0",
         "0.0",
         "40.0",
         "3469.0",
         "353.0"
        ],
        [
         "50%",
         "0.0",
         "29.0",
         "70.35",
         "1.0",
         "46.0",
         "0.0",
         "1.0",
         "93518.0",
         "36.205465000000004",
         "-119.595293",
         "1.0",
         "0.0",
         "29.0",
         "22.89",
         "17.0",
         "70.35",
         "1394.55",
         "0.0",
         "0.0",
         "401.44",
         "2108.64",
         "1.0",
         "3.0",
         "0.0",
         "61.0",
         "4527.0",
         "759.0"
        ],
        [
         "75%",
         "0.0",
         "55.0",
         "89.85",
         "1.0",
         "60.0",
         "0.0",
         "1.0",
         "95329.0",
         "38.161321",
         "-117.96979499999999",
         "1.0",
         "3.0",
         "55.0",
         "36.394999999999996",
         "27.0",
         "89.85",
         "3786.6",
         "0.0",
         "0.0",
         "1191.1",
         "4801.145",
         "1.0",
         "4.0",
         "1.0",
         "75.5",
         "5380.5",
         "1208.0"
        ],
        [
         "max",
         "1.0",
         "72.0",
         "118.75",
         "1.0",
         "80.0",
         "9.0",
         "1.0",
         "96150.0",
         "41.962127",
         "-114.192901",
         "1.0",
         "11.0",
         "72.0",
         "49.99",
         "85.0",
         "118.75",
         "8684.8",
         "49.79",
         "150.0",
         "3564.72",
         "11979.34",
         "1.0",
         "5.0",
         "1.0",
         "96.0",
         "6500.0",
         "1670.0"
        ]
       ],
       "shape": {
        "columns": 27,
        "rows": 8
       }
      },
      "text/html": [
       "<div>\n",
       "<style scoped>\n",
       "    .dataframe tbody tr th:only-of-type {\n",
       "        vertical-align: middle;\n",
       "    }\n",
       "\n",
       "    .dataframe tbody tr th {\n",
       "        vertical-align: top;\n",
       "    }\n",
       "\n",
       "    .dataframe thead th {\n",
       "        text-align: right;\n",
       "    }\n",
       "</style>\n",
       "<table border=\"1\" class=\"dataframe\">\n",
       "  <thead>\n",
       "    <tr style=\"text-align: right;\">\n",
       "      <th></th>\n",
       "      <th>Seniorcitizen_x</th>\n",
       "      <th>Tenure</th>\n",
       "      <th>Monthlycharges</th>\n",
       "      <th>Count_x</th>\n",
       "      <th>Age</th>\n",
       "      <th>Numberofdependents</th>\n",
       "      <th>Count_y</th>\n",
       "      <th>Zipcode</th>\n",
       "      <th>Latitude</th>\n",
       "      <th>Longitude</th>\n",
       "      <th>...</th>\n",
       "      <th>Totalrefunds</th>\n",
       "      <th>Totalextradatacharges</th>\n",
       "      <th>Totallongdistancecharges</th>\n",
       "      <th>Totalrevenue</th>\n",
       "      <th>Count_y</th>\n",
       "      <th>Satisfactionscore</th>\n",
       "      <th>Churnvalue</th>\n",
       "      <th>Churnscore</th>\n",
       "      <th>Cltv</th>\n",
       "      <th>Id</th>\n",
       "    </tr>\n",
       "  </thead>\n",
       "  <tbody>\n",
       "    <tr>\n",
       "      <th>count</th>\n",
       "      <td>7043.000000</td>\n",
       "      <td>7043.000000</td>\n",
       "      <td>7043.000000</td>\n",
       "      <td>7043.0</td>\n",
       "      <td>7043.000000</td>\n",
       "      <td>7043.000000</td>\n",
       "      <td>7043.0</td>\n",
       "      <td>7043.000000</td>\n",
       "      <td>7043.000000</td>\n",
       "      <td>7043.000000</td>\n",
       "      <td>...</td>\n",
       "      <td>7043.000000</td>\n",
       "      <td>7043.000000</td>\n",
       "      <td>7043.000000</td>\n",
       "      <td>7043.000000</td>\n",
       "      <td>7043.0</td>\n",
       "      <td>7043.000000</td>\n",
       "      <td>7043.000000</td>\n",
       "      <td>7043.000000</td>\n",
       "      <td>7043.000000</td>\n",
       "      <td>7043.000000</td>\n",
       "    </tr>\n",
       "    <tr>\n",
       "      <th>mean</th>\n",
       "      <td>0.162147</td>\n",
       "      <td>32.371149</td>\n",
       "      <td>64.761692</td>\n",
       "      <td>1.0</td>\n",
       "      <td>46.509726</td>\n",
       "      <td>0.468692</td>\n",
       "      <td>1.0</td>\n",
       "      <td>93486.071134</td>\n",
       "      <td>36.197455</td>\n",
       "      <td>-119.756684</td>\n",
       "      <td>...</td>\n",
       "      <td>1.962182</td>\n",
       "      <td>6.860713</td>\n",
       "      <td>749.099262</td>\n",
       "      <td>3034.379056</td>\n",
       "      <td>1.0</td>\n",
       "      <td>3.244924</td>\n",
       "      <td>0.265370</td>\n",
       "      <td>58.505040</td>\n",
       "      <td>4400.295755</td>\n",
       "      <td>784.801221</td>\n",
       "    </tr>\n",
       "    <tr>\n",
       "      <th>std</th>\n",
       "      <td>0.368612</td>\n",
       "      <td>24.559481</td>\n",
       "      <td>30.090047</td>\n",
       "      <td>0.0</td>\n",
       "      <td>16.750352</td>\n",
       "      <td>0.962802</td>\n",
       "      <td>0.0</td>\n",
       "      <td>1856.768045</td>\n",
       "      <td>2.468929</td>\n",
       "      <td>2.154425</td>\n",
       "      <td>...</td>\n",
       "      <td>7.902614</td>\n",
       "      <td>25.104978</td>\n",
       "      <td>846.660055</td>\n",
       "      <td>2865.204542</td>\n",
       "      <td>0.0</td>\n",
       "      <td>1.201657</td>\n",
       "      <td>0.441561</td>\n",
       "      <td>21.170031</td>\n",
       "      <td>1183.057152</td>\n",
       "      <td>489.044508</td>\n",
       "    </tr>\n",
       "    <tr>\n",
       "      <th>min</th>\n",
       "      <td>0.000000</td>\n",
       "      <td>0.000000</td>\n",
       "      <td>18.250000</td>\n",
       "      <td>1.0</td>\n",
       "      <td>19.000000</td>\n",
       "      <td>0.000000</td>\n",
       "      <td>1.0</td>\n",
       "      <td>90001.000000</td>\n",
       "      <td>32.555828</td>\n",
       "      <td>-124.301372</td>\n",
       "      <td>...</td>\n",
       "      <td>0.000000</td>\n",
       "      <td>0.000000</td>\n",
       "      <td>0.000000</td>\n",
       "      <td>21.360000</td>\n",
       "      <td>1.0</td>\n",
       "      <td>1.000000</td>\n",
       "      <td>0.000000</td>\n",
       "      <td>5.000000</td>\n",
       "      <td>2003.000000</td>\n",
       "      <td>1.000000</td>\n",
       "    </tr>\n",
       "    <tr>\n",
       "      <th>25%</th>\n",
       "      <td>0.000000</td>\n",
       "      <td>9.000000</td>\n",
       "      <td>35.500000</td>\n",
       "      <td>1.0</td>\n",
       "      <td>32.000000</td>\n",
       "      <td>0.000000</td>\n",
       "      <td>1.0</td>\n",
       "      <td>92101.000000</td>\n",
       "      <td>33.990646</td>\n",
       "      <td>-121.788090</td>\n",
       "      <td>...</td>\n",
       "      <td>0.000000</td>\n",
       "      <td>0.000000</td>\n",
       "      <td>70.545000</td>\n",
       "      <td>605.610000</td>\n",
       "      <td>1.0</td>\n",
       "      <td>3.000000</td>\n",
       "      <td>0.000000</td>\n",
       "      <td>40.000000</td>\n",
       "      <td>3469.000000</td>\n",
       "      <td>353.000000</td>\n",
       "    </tr>\n",
       "    <tr>\n",
       "      <th>50%</th>\n",
       "      <td>0.000000</td>\n",
       "      <td>29.000000</td>\n",
       "      <td>70.350000</td>\n",
       "      <td>1.0</td>\n",
       "      <td>46.000000</td>\n",
       "      <td>0.000000</td>\n",
       "      <td>1.0</td>\n",
       "      <td>93518.000000</td>\n",
       "      <td>36.205465</td>\n",
       "      <td>-119.595293</td>\n",
       "      <td>...</td>\n",
       "      <td>0.000000</td>\n",
       "      <td>0.000000</td>\n",
       "      <td>401.440000</td>\n",
       "      <td>2108.640000</td>\n",
       "      <td>1.0</td>\n",
       "      <td>3.000000</td>\n",
       "      <td>0.000000</td>\n",
       "      <td>61.000000</td>\n",
       "      <td>4527.000000</td>\n",
       "      <td>759.000000</td>\n",
       "    </tr>\n",
       "    <tr>\n",
       "      <th>75%</th>\n",
       "      <td>0.000000</td>\n",
       "      <td>55.000000</td>\n",
       "      <td>89.850000</td>\n",
       "      <td>1.0</td>\n",
       "      <td>60.000000</td>\n",
       "      <td>0.000000</td>\n",
       "      <td>1.0</td>\n",
       "      <td>95329.000000</td>\n",
       "      <td>38.161321</td>\n",
       "      <td>-117.969795</td>\n",
       "      <td>...</td>\n",
       "      <td>0.000000</td>\n",
       "      <td>0.000000</td>\n",
       "      <td>1191.100000</td>\n",
       "      <td>4801.145000</td>\n",
       "      <td>1.0</td>\n",
       "      <td>4.000000</td>\n",
       "      <td>1.000000</td>\n",
       "      <td>75.500000</td>\n",
       "      <td>5380.500000</td>\n",
       "      <td>1208.000000</td>\n",
       "    </tr>\n",
       "    <tr>\n",
       "      <th>max</th>\n",
       "      <td>1.000000</td>\n",
       "      <td>72.000000</td>\n",
       "      <td>118.750000</td>\n",
       "      <td>1.0</td>\n",
       "      <td>80.000000</td>\n",
       "      <td>9.000000</td>\n",
       "      <td>1.0</td>\n",
       "      <td>96150.000000</td>\n",
       "      <td>41.962127</td>\n",
       "      <td>-114.192901</td>\n",
       "      <td>...</td>\n",
       "      <td>49.790000</td>\n",
       "      <td>150.000000</td>\n",
       "      <td>3564.720000</td>\n",
       "      <td>11979.340000</td>\n",
       "      <td>1.0</td>\n",
       "      <td>5.000000</td>\n",
       "      <td>1.000000</td>\n",
       "      <td>96.000000</td>\n",
       "      <td>6500.000000</td>\n",
       "      <td>1670.000000</td>\n",
       "    </tr>\n",
       "  </tbody>\n",
       "</table>\n",
       "<p>8 rows × 27 columns</p>\n",
       "</div>"
      ],
      "text/plain": [
       "       Seniorcitizen_x       Tenure  Monthlycharges  Count_x          Age  \\\n",
       "count      7043.000000  7043.000000     7043.000000   7043.0  7043.000000   \n",
       "mean          0.162147    32.371149       64.761692      1.0    46.509726   \n",
       "std           0.368612    24.559481       30.090047      0.0    16.750352   \n",
       "min           0.000000     0.000000       18.250000      1.0    19.000000   \n",
       "25%           0.000000     9.000000       35.500000      1.0    32.000000   \n",
       "50%           0.000000    29.000000       70.350000      1.0    46.000000   \n",
       "75%           0.000000    55.000000       89.850000      1.0    60.000000   \n",
       "max           1.000000    72.000000      118.750000      1.0    80.000000   \n",
       "\n",
       "       Numberofdependents  Count_y       Zipcode     Latitude    Longitude  \\\n",
       "count         7043.000000   7043.0   7043.000000  7043.000000  7043.000000   \n",
       "mean             0.468692      1.0  93486.071134    36.197455  -119.756684   \n",
       "std              0.962802      0.0   1856.768045     2.468929     2.154425   \n",
       "min              0.000000      1.0  90001.000000    32.555828  -124.301372   \n",
       "25%              0.000000      1.0  92101.000000    33.990646  -121.788090   \n",
       "50%              0.000000      1.0  93518.000000    36.205465  -119.595293   \n",
       "75%              0.000000      1.0  95329.000000    38.161321  -117.969795   \n",
       "max              9.000000      1.0  96150.000000    41.962127  -114.192901   \n",
       "\n",
       "       ...  Totalrefunds  Totalextradatacharges  Totallongdistancecharges  \\\n",
       "count  ...   7043.000000            7043.000000               7043.000000   \n",
       "mean   ...      1.962182               6.860713                749.099262   \n",
       "std    ...      7.902614              25.104978                846.660055   \n",
       "min    ...      0.000000               0.000000                  0.000000   \n",
       "25%    ...      0.000000               0.000000                 70.545000   \n",
       "50%    ...      0.000000               0.000000                401.440000   \n",
       "75%    ...      0.000000               0.000000               1191.100000   \n",
       "max    ...     49.790000             150.000000               3564.720000   \n",
       "\n",
       "       Totalrevenue  Count_y  Satisfactionscore   Churnvalue   Churnscore  \\\n",
       "count   7043.000000   7043.0        7043.000000  7043.000000  7043.000000   \n",
       "mean    3034.379056      1.0           3.244924     0.265370    58.505040   \n",
       "std     2865.204542      0.0           1.201657     0.441561    21.170031   \n",
       "min       21.360000      1.0           1.000000     0.000000     5.000000   \n",
       "25%      605.610000      1.0           3.000000     0.000000    40.000000   \n",
       "50%     2108.640000      1.0           3.000000     0.000000    61.000000   \n",
       "75%     4801.145000      1.0           4.000000     1.000000    75.500000   \n",
       "max    11979.340000      1.0           5.000000     1.000000    96.000000   \n",
       "\n",
       "              Cltv           Id  \n",
       "count  7043.000000  7043.000000  \n",
       "mean   4400.295755   784.801221  \n",
       "std    1183.057152   489.044508  \n",
       "min    2003.000000     1.000000  \n",
       "25%    3469.000000   353.000000  \n",
       "50%    4527.000000   759.000000  \n",
       "75%    5380.500000  1208.000000  \n",
       "max    6500.000000  1670.000000  \n",
       "\n",
       "[8 rows x 27 columns]"
      ]
     },
     "execution_count": 102,
     "metadata": {},
     "output_type": "execute_result"
    }
   ],
   "source": [
    "df_merged.describe()"
   ]
  },
  {
   "cell_type": "markdown",
   "id": "bb82d148",
   "metadata": {},
   "source": [
    "# 4: Data Cleaning & Feature Engineering"
   ]
  },
  {
   "cell_type": "code",
   "execution_count": 103,
   "id": "420a4dac",
   "metadata": {},
   "outputs": [
    {
     "data": {
      "text/plain": [
       "Index(['Customerid', 'Gender', 'Seniorcitizen', 'Partner', 'Dependents',\n",
       "       'Tenure', 'Phoneservice', 'Multiplelines', 'Internetservice',\n",
       "       'Onlinesecurity', 'Onlinebackup', 'Deviceprotection', 'Techsupport',\n",
       "       'Streamingtv', 'Streamingmovies', 'Contract', 'Paperlessbilling',\n",
       "       'Paymentmethod', 'Monthlycharges', 'Totalcharges', 'Churn', 'Count',\n",
       "       'Gender', 'Age', 'Under30', 'Seniorcitizen', 'Married', 'Dependents',\n",
       "       'Numberofdependents', 'Locationid', 'Count', 'Country', 'State', 'City',\n",
       "       'Zipcode', 'Latlong', 'Latitude', 'Longitude', 'Serviceid', 'Count',\n",
       "       'Quarter', 'Referredafriend', 'Numberofreferrals', 'Tenureinmonths',\n",
       "       'Offer', 'Phoneservice', 'Avgmonthlylongdistancecharges',\n",
       "       'Multiplelines', 'Internetservice', 'Internettype',\n",
       "       'Avgmonthlygbdownload', 'Onlinesecurity', 'Onlinebackup',\n",
       "       'Deviceprotectionplan', 'Premiumtechsupport', 'Streamingtv',\n",
       "       'Streamingmovies', 'Streamingmusic', 'Unlimiteddata', 'Contract',\n",
       "       'Paperlessbilling', 'Paymentmethod', 'Monthlycharge', 'Totalcharges',\n",
       "       'Totalrefunds', 'Totalextradatacharges', 'Totallongdistancecharges',\n",
       "       'Totalrevenue', 'Statusid', 'Count', 'Quarter', 'Satisfactionscore',\n",
       "       'Customerstatus', 'Churnlabel', 'Churnvalue', 'Churnscore', 'Cltv',\n",
       "       'Churncategory', 'Churnreason', 'Id', 'Population'],\n",
       "      dtype='object')"
      ]
     },
     "execution_count": 103,
     "metadata": {},
     "output_type": "execute_result"
    }
   ],
   "source": [
    "# Rename columns with suffix '_y' and  suffix '_x' by removing the suffixes\n",
    "df_merged.columns = df_merged.columns.str.replace('_x', '', regex=False).str.replace('_y', '', regex=False)\n",
    "\n",
    "df_merged.columns"
   ]
  },
  {
   "cell_type": "code",
   "execution_count": 104,
   "id": "0e6f149a",
   "metadata": {},
   "outputs": [
    {
     "name": "stdout",
     "output_type": "stream",
     "text": [
      "<class 'pandas.core.frame.DataFrame'>\n",
      "Int64Index: 7043 entries, 0 to 7042\n",
      "Data columns (total 2 columns):\n",
      " #   Column         Non-Null Count  Dtype \n",
      "---  ------         --------------  ----- \n",
      " 0   Churncategory  1869 non-null   object\n",
      " 1   Churnreason    1869 non-null   object\n",
      "dtypes: object(2)\n",
      "memory usage: 165.1+ KB\n"
     ]
    }
   ],
   "source": [
    "null_columns = df_merged.columns[df_merged.isnull().sum() > 0].tolist()\n",
    "\n",
    "df_merged[null_columns].info()"
   ]
  },
  {
   "cell_type": "code",
   "execution_count": 105,
   "id": "420b9c40",
   "metadata": {},
   "outputs": [
    {
     "name": "stdout",
     "output_type": "stream",
     "text": [
      "Columns to drop: ['Gender', 'Seniorcitizen', 'Dependents', 'Phoneservice', 'Multiplelines', 'Internetservice', 'Onlinesecurity', 'Onlinebackup', 'Deviceprotection', 'Streamingtv', 'Streamingmovies', 'Contract', 'Paperlessbilling', 'Paymentmethod', 'Monthlycharges', 'Totalcharges', 'Count', 'Quarter']\n"
     ]
    }
   ],
   "source": [
    "from difflib import get_close_matches\n",
    "\n",
    "cols = df_merged.columns.tolist()\n",
    "checked = []\n",
    "\n",
    "for col in cols:\n",
    "    if col not in [item for sublist in checked for item in sublist]:  \n",
    "        matches = get_close_matches(col, cols, n=5, cutoff=0.85)\n",
    "        if len(matches) > 1:\n",
    "            checked.append(matches)\n",
    "\n",
    "\n",
    "cols_with_same_name = []\n",
    "\n",
    "for group in checked:\n",
    "    cols_with_same_name.append(group[0])  \n",
    "    \n",
    "\n",
    "print(\"Columns to drop:\", cols_with_same_name)\n",
    "\n"
   ]
  },
  {
   "cell_type": "code",
   "execution_count": 106,
   "id": "b0bae102",
   "metadata": {},
   "outputs": [
    {
     "data": {
      "text/plain": [
       "['Customerid', 'Locationid', 'Serviceid', 'Statusid']"
      ]
     },
     "execution_count": 106,
     "metadata": {},
     "output_type": "execute_result"
    }
   ],
   "source": [
    "cols_with_same_value = df_merged.columns[df_merged.nunique() == df_merged.shape[0]].to_list()\n",
    "\n",
    "cols_with_same_value"
   ]
  },
  {
   "cell_type": "code",
   "execution_count": 107,
   "id": "a9e37a0f",
   "metadata": {},
   "outputs": [],
   "source": [
    "cols_not_needed = ['Latlong', 'Customerid', 'Locationid', 'Id', \n",
    "    'Serviceid', 'Statusid','City', 'Zipcode', \n",
    "    'Latitude', 'Longitude' , 'Quarter' , 'Tenureinmonths' ,'Country', 'State', 'Population']"
   ]
  },
  {
   "cell_type": "code",
   "execution_count": 108,
   "id": "f7859dcc",
   "metadata": {},
   "outputs": [],
   "source": [
    "leakage_cols = [\n",
    "    'Churnlabel', 'Churnvalue', 'Churnscore', 'Cltv',\n",
    "    'Churncategory', 'Churnreason', 'Customerstatus', 'Statusid', 'Id',\n",
    "    'Totalrevenue', 'Totalrefunds', 'Totallongdistancecharges',\n",
    "    'Totalextradatacharges'\n",
    "]\n"
   ]
  },
  {
   "cell_type": "code",
   "execution_count": 109,
   "id": "cd2baebd",
   "metadata": {},
   "outputs": [
    {
     "name": "stdout",
     "output_type": "stream",
     "text": [
      "Cols To Drop is Equal to   52\n"
     ]
    }
   ],
   "source": [
    "\n",
    "\n",
    "cols_to_drop = leakage_cols + cols_with_same_value + cols_not_needed + cols_with_same_name + null_columns\n",
    "\n",
    "print('Cols To Drop is Equal to  ' , len(cols_to_drop) )\n"
   ]
  },
  {
   "cell_type": "code",
   "execution_count": 110,
   "id": "8ac1a0df",
   "metadata": {},
   "outputs": [
    {
     "name": "stdout",
     "output_type": "stream",
     "text": [
      "All Data Cols Before  Drop is Equal to   81\n"
     ]
    }
   ],
   "source": [
    "print('All Data Cols Before  Drop is Equal to  ' , len(df_merged.columns) )"
   ]
  },
  {
   "cell_type": "code",
   "execution_count": 111,
   "id": "94a05992",
   "metadata": {},
   "outputs": [
    {
     "name": "stdout",
     "output_type": "stream",
     "text": [
      "All Data Cols After  Drop is Equal to   20\n",
      "['Partner', 'Tenure', 'Techsupport', 'Churn', 'Age', 'Under30', 'Married', 'Numberofdependents', 'Referredafriend', 'Numberofreferrals', 'Offer', 'Avgmonthlylongdistancecharges', 'Internettype', 'Avgmonthlygbdownload', 'Deviceprotectionplan', 'Premiumtechsupport', 'Streamingmusic', 'Unlimiteddata', 'Monthlycharge', 'Satisfactionscore']\n"
     ]
    }
   ],
   "source": [
    "df_merged.drop(columns=cols_to_drop, inplace=True, errors='ignore')\n",
    "print('All Data Cols After  Drop is Equal to  ' , len(df_merged.columns) )\n",
    "print(df_merged.columns.tolist())\n"
   ]
  },
  {
   "cell_type": "code",
   "execution_count": 112,
   "id": "91541944",
   "metadata": {},
   "outputs": [
    {
     "name": "stdout",
     "output_type": "stream",
     "text": [
      "<class 'pandas.core.frame.DataFrame'>\n",
      "Int64Index: 7043 entries, 0 to 7042\n",
      "Data columns (total 20 columns):\n",
      " #   Column                         Non-Null Count  Dtype  \n",
      "---  ------                         --------------  -----  \n",
      " 0   Partner                        7043 non-null   object \n",
      " 1   Tenure                         7043 non-null   int64  \n",
      " 2   Techsupport                    7043 non-null   object \n",
      " 3   Churn                          7043 non-null   object \n",
      " 4   Age                            7043 non-null   int64  \n",
      " 5   Under30                        7043 non-null   object \n",
      " 6   Married                        7043 non-null   object \n",
      " 7   Numberofdependents             7043 non-null   int64  \n",
      " 8   Referredafriend                7043 non-null   object \n",
      " 9   Numberofreferrals              7043 non-null   int64  \n",
      " 10  Offer                          7043 non-null   object \n",
      " 11  Avgmonthlylongdistancecharges  7043 non-null   float64\n",
      " 12  Internettype                   7043 non-null   object \n",
      " 13  Avgmonthlygbdownload           7043 non-null   int64  \n",
      " 14  Deviceprotectionplan           7043 non-null   object \n",
      " 15  Premiumtechsupport             7043 non-null   object \n",
      " 16  Streamingmusic                 7043 non-null   object \n",
      " 17  Unlimiteddata                  7043 non-null   object \n",
      " 18  Monthlycharge                  7043 non-null   float64\n",
      " 19  Satisfactionscore              7043 non-null   int64  \n",
      "dtypes: float64(2), int64(6), object(12)\n",
      "memory usage: 1.1+ MB\n"
     ]
    }
   ],
   "source": [
    "df_merged.info()"
   ]
  },
  {
   "cell_type": "code",
   "execution_count": 113,
   "id": "74efede3",
   "metadata": {},
   "outputs": [
    {
     "data": {
      "application/vnd.microsoft.datawrangler.viewer.v0+json": {
       "columns": [
        {
         "name": "index",
         "rawType": "object",
         "type": "string"
        },
        {
         "name": "0",
         "rawType": "int64",
         "type": "integer"
        }
       ],
       "ref": "f1f31c98-8107-49c5-a78e-45a9107e33e4",
       "rows": [
        [
         "object",
         "12"
        ],
        [
         "int64",
         "6"
        ],
        [
         "float64",
         "2"
        ]
       ],
       "shape": {
        "columns": 1,
        "rows": 3
       }
      },
      "text/plain": [
       "object     12\n",
       "int64       6\n",
       "float64     2\n",
       "dtype: int64"
      ]
     },
     "execution_count": 113,
     "metadata": {},
     "output_type": "execute_result"
    }
   ],
   "source": [
    "df_merged.dtypes.value_counts()"
   ]
  },
  {
   "cell_type": "code",
   "execution_count": 114,
   "id": "42e50962",
   "metadata": {},
   "outputs": [
    {
     "name": "stdout",
     "output_type": "stream",
     "text": [
      "Categorical columns are  12 ['Partner', 'Techsupport', 'Churn', 'Under30', 'Married', 'Referredafriend', 'Offer', 'Internettype', 'Deviceprotectionplan', 'Premiumtechsupport', 'Streamingmusic', 'Unlimiteddata']\n"
     ]
    }
   ],
   "source": [
    "categorical = df_merged.select_dtypes(include='object').columns.to_list()\n",
    "\n",
    "print(\"Categorical columns are \", len(categorical)  , categorical)"
   ]
  },
  {
   "cell_type": "code",
   "execution_count": 115,
   "id": "02735f00",
   "metadata": {},
   "outputs": [
    {
     "data": {
      "application/vnd.microsoft.datawrangler.viewer.v0+json": {
       "columns": [
        {
         "name": "index",
         "rawType": "int64",
         "type": "integer"
        },
        {
         "name": "Partner",
         "rawType": "object",
         "type": "string"
        },
        {
         "name": "Techsupport",
         "rawType": "object",
         "type": "string"
        },
        {
         "name": "Churn",
         "rawType": "object",
         "type": "string"
        },
        {
         "name": "Under30",
         "rawType": "object",
         "type": "string"
        },
        {
         "name": "Married",
         "rawType": "object",
         "type": "string"
        },
        {
         "name": "Referredafriend",
         "rawType": "object",
         "type": "string"
        },
        {
         "name": "Offer",
         "rawType": "object",
         "type": "string"
        },
        {
         "name": "Internettype",
         "rawType": "object",
         "type": "string"
        },
        {
         "name": "Deviceprotectionplan",
         "rawType": "object",
         "type": "string"
        },
        {
         "name": "Premiumtechsupport",
         "rawType": "object",
         "type": "string"
        },
        {
         "name": "Streamingmusic",
         "rawType": "object",
         "type": "string"
        },
        {
         "name": "Unlimiteddata",
         "rawType": "object",
         "type": "string"
        }
       ],
       "ref": "6fb03ecb-b81d-4866-b2ec-9ad0f161d006",
       "rows": [
        [
         "0",
         "Yes",
         "No",
         "No",
         "No",
         "Yes",
         "No",
         "Offer E",
         "DSL",
         "No",
         "No",
         "No",
         "Yes"
        ],
        [
         "1",
         "No",
         "No",
         "No",
         "No",
         "No",
         "No",
         "None",
         "DSL",
         "Yes",
         "No",
         "No",
         "Yes"
        ],
        [
         "2",
         "No",
         "No",
         "Yes",
         "No",
         "No",
         "No",
         "None",
         "DSL",
         "No",
         "No",
         "No",
         "Yes"
        ],
        [
         "3",
         "No",
         "Yes",
         "No",
         "No",
         "No",
         "No",
         "None",
         "DSL",
         "Yes",
         "Yes",
         "No",
         "Yes"
        ],
        [
         "4",
         "No",
         "No",
         "Yes",
         "Yes",
         "No",
         "No",
         "None",
         "Fiber Optic",
         "No",
         "No",
         "No",
         "Yes"
        ],
        [
         "5",
         "No",
         "No",
         "Yes",
         "No",
         "No",
         "No",
         "None",
         "Cable",
         "Yes",
         "No",
         "Yes",
         "Yes"
        ],
        [
         "6",
         "No",
         "No",
         "No",
         "No",
         "No",
         "No",
         "Offer D",
         "Fiber Optic",
         "No",
         "No",
         "No",
         "Yes"
        ],
        [
         "7",
         "No",
         "No",
         "No",
         "No",
         "No",
         "No",
         "Offer D",
         "DSL",
         "No",
         "No",
         "No",
         "Yes"
        ],
        [
         "8",
         "Yes",
         "Yes",
         "Yes",
         "Yes",
         "Yes",
         "No",
         "Offer C",
         "Fiber Optic",
         "Yes",
         "Yes",
         "Yes",
         "Yes"
        ],
        [
         "9",
         "No",
         "No",
         "No",
         "No",
         "No",
         "No",
         "Offer B",
         "DSL",
         "No",
         "No",
         "No",
         "Yes"
        ],
        [
         "10",
         "Yes",
         "No",
         "No",
         "No",
         "Yes",
         "Yes",
         "Offer D",
         "DSL",
         "No",
         "No",
         "No",
         "No"
        ],
        [
         "11",
         "No",
         "No internet service",
         "No",
         "Yes",
         "No",
         "No",
         "Offer D",
         "None",
         "No",
         "No",
         "No",
         "No"
        ],
        [
         "12",
         "Yes",
         "No",
         "No",
         "No",
         "Yes",
         "Yes",
         "Offer B",
         "Fiber Optic",
         "Yes",
         "No",
         "Yes",
         "Yes"
        ],
        [
         "13",
         "No",
         "No",
         "Yes",
         "No",
         "No",
         "No",
         "None",
         "Fiber Optic",
         "Yes",
         "No",
         "Yes",
         "Yes"
        ],
        [
         "14",
         "No",
         "Yes",
         "No",
         "Yes",
         "No",
         "No",
         "None",
         "Fiber Optic",
         "Yes",
         "Yes",
         "Yes",
         "Yes"
        ],
        [
         "15",
         "Yes",
         "Yes",
         "No",
         "No",
         "Yes",
         "Yes",
         "Offer A",
         "Fiber Optic",
         "Yes",
         "Yes",
         "Yes",
         "Yes"
        ],
        [
         "16",
         "No",
         "No internet service",
         "No",
         "No",
         "No",
         "No",
         "Offer B",
         "None",
         "No",
         "No",
         "No",
         "No"
        ],
        [
         "17",
         "No",
         "No",
         "No",
         "No",
         "No",
         "No",
         "None",
         "Fiber Optic",
         "Yes",
         "No",
         "Yes",
         "Yes"
        ],
        [
         "18",
         "Yes",
         "Yes",
         "Yes",
         "Yes",
         "Yes",
         "Yes",
         "None",
         "Cable",
         "Yes",
         "Yes",
         "No",
         "Yes"
        ],
        [
         "19",
         "No",
         "No",
         "No",
         "No",
         "No",
         "No",
         "Offer D",
         "Fiber Optic",
         "Yes",
         "No",
         "Yes",
         "No"
        ],
        [
         "20",
         "No",
         "No",
         "Yes",
         "No",
         "No",
         "No",
         "None",
         "DSL",
         "Yes",
         "No",
         "No",
         "No"
        ],
        [
         "21",
         "Yes",
         "No internet service",
         "No",
         "No",
         "Yes",
         "Yes",
         "Offer D",
         "None",
         "No",
         "No",
         "No",
         "No"
        ],
        [
         "22",
         "No",
         "No internet service",
         "Yes",
         "Yes",
         "No",
         "No",
         "None",
         "None",
         "No",
         "No",
         "No",
         "No"
        ],
        [
         "23",
         "Yes",
         "Yes",
         "No",
         "Yes",
         "Yes",
         "Yes",
         "Offer B",
         "Cable",
         "No",
         "Yes",
         "No",
         "Yes"
        ],
        [
         "24",
         "Yes",
         "Yes",
         "No",
         "No",
         "Yes",
         "Yes",
         "Offer B",
         "Cable",
         "No",
         "Yes",
         "No",
         "Yes"
        ],
        [
         "25",
         "No",
         "No",
         "No",
         "Yes",
         "No",
         "No",
         "None",
         "Cable",
         "No",
         "No",
         "No",
         "Yes"
        ],
        [
         "26",
         "Yes",
         "No",
         "Yes",
         "No",
         "Yes",
         "Yes",
         "None",
         "Fiber Optic",
         "No",
         "No",
         "Yes",
         "Yes"
        ],
        [
         "27",
         "Yes",
         "No",
         "Yes",
         "Yes",
         "Yes",
         "Yes",
         "None",
         "DSL",
         "No",
         "No",
         "No",
         "Yes"
        ],
        [
         "28",
         "Yes",
         "Yes",
         "No",
         "No",
         "Yes",
         "Yes",
         "None",
         "DSL",
         "Yes",
         "Yes",
         "Yes",
         "Yes"
        ],
        [
         "29",
         "No",
         "No",
         "Yes",
         "Yes",
         "No",
         "No",
         "None",
         "Cable",
         "No",
         "No",
         "Yes",
         "Yes"
        ],
        [
         "30",
         "Yes",
         "Yes",
         "No",
         "No",
         "Yes",
         "Yes",
         "None",
         "Fiber Optic",
         "Yes",
         "Yes",
         "No",
         "Yes"
        ],
        [
         "31",
         "Yes",
         "No",
         "No",
         "No",
         "Yes",
         "Yes",
         "Offer E",
         "Fiber Optic",
         "Yes",
         "No",
         "No",
         "No"
        ],
        [
         "32",
         "Yes",
         "Yes",
         "No",
         "No",
         "Yes",
         "Yes",
         "None",
         "DSL",
         "Yes",
         "Yes",
         "No",
         "Yes"
        ],
        [
         "33",
         "No",
         "No internet service",
         "No",
         "No",
         "No",
         "No",
         "Offer E",
         "None",
         "No",
         "No",
         "No",
         "No"
        ],
        [
         "34",
         "No",
         "No",
         "No",
         "No",
         "No",
         "No",
         "Offer E",
         "DSL",
         "No",
         "No",
         "No",
         "Yes"
        ],
        [
         "35",
         "Yes",
         "Yes",
         "No",
         "No",
         "Yes",
         "Yes",
         "None",
         "Fiber Optic",
         "No",
         "Yes",
         "No",
         "Yes"
        ],
        [
         "36",
         "No",
         "No",
         "Yes",
         "No",
         "No",
         "No",
         "None",
         "Fiber Optic",
         "No",
         "No",
         "No",
         "Yes"
        ],
        [
         "37",
         "No",
         "No",
         "No",
         "Yes",
         "No",
         "No",
         "Offer B",
         "Fiber Optic",
         "Yes",
         "No",
         "No",
         "Yes"
        ],
        [
         "38",
         "No",
         "No",
         "Yes",
         "No",
         "No",
         "No",
         "Offer C",
         "Fiber Optic",
         "Yes",
         "No",
         "Yes",
         "Yes"
        ],
        [
         "39",
         "No",
         "No",
         "Yes",
         "No",
         "No",
         "No",
         "None",
         "Cable",
         "Yes",
         "No",
         "Yes",
         "Yes"
        ],
        [
         "40",
         "Yes",
         "No",
         "No",
         "No",
         "Yes",
         "Yes",
         "Offer D",
         "DSL",
         "No",
         "No",
         "No",
         "Yes"
        ],
        [
         "41",
         "Yes",
         "No",
         "No",
         "No",
         "Yes",
         "Yes",
         "None",
         "DSL",
         "No",
         "No",
         "No",
         "No"
        ],
        [
         "42",
         "Yes",
         "No internet service",
         "No",
         "Yes",
         "Yes",
         "Yes",
         "Offer D",
         "None",
         "No",
         "No",
         "No",
         "No"
        ],
        [
         "43",
         "No",
         "Yes",
         "No",
         "No",
         "No",
         "No",
         "Offer B",
         "DSL",
         "Yes",
         "Yes",
         "No",
         "Yes"
        ],
        [
         "44",
         "Yes",
         "Yes",
         "No",
         "No",
         "Yes",
         "Yes",
         "Offer D",
         "DSL",
         "No",
         "Yes",
         "No",
         "Yes"
        ],
        [
         "45",
         "No",
         "No",
         "No",
         "No",
         "No",
         "No",
         "Offer B",
         "Fiber Optic",
         "No",
         "No",
         "Yes",
         "Yes"
        ],
        [
         "46",
         "No",
         "No",
         "No",
         "Yes",
         "No",
         "No",
         "None",
         "DSL",
         "No",
         "No",
         "No",
         "Yes"
        ],
        [
         "47",
         "No",
         "No",
         "Yes",
         "No",
         "No",
         "No",
         "None",
         "Fiber Optic",
         "No",
         "No",
         "No",
         "No"
        ],
        [
         "48",
         "No",
         "Yes",
         "No",
         "Yes",
         "No",
         "No",
         "Offer B",
         "Cable",
         "No",
         "Yes",
         "Yes",
         "Yes"
        ],
        [
         "49",
         "Yes",
         "Yes",
         "No",
         "No",
         "Yes",
         "Yes",
         "None",
         "Cable",
         "Yes",
         "Yes",
         "No",
         "No"
        ]
       ],
       "shape": {
        "columns": 12,
        "rows": 7043
       }
      },
      "text/html": [
       "<div>\n",
       "<style scoped>\n",
       "    .dataframe tbody tr th:only-of-type {\n",
       "        vertical-align: middle;\n",
       "    }\n",
       "\n",
       "    .dataframe tbody tr th {\n",
       "        vertical-align: top;\n",
       "    }\n",
       "\n",
       "    .dataframe thead th {\n",
       "        text-align: right;\n",
       "    }\n",
       "</style>\n",
       "<table border=\"1\" class=\"dataframe\">\n",
       "  <thead>\n",
       "    <tr style=\"text-align: right;\">\n",
       "      <th></th>\n",
       "      <th>Partner</th>\n",
       "      <th>Techsupport</th>\n",
       "      <th>Churn</th>\n",
       "      <th>Under30</th>\n",
       "      <th>Married</th>\n",
       "      <th>Referredafriend</th>\n",
       "      <th>Offer</th>\n",
       "      <th>Internettype</th>\n",
       "      <th>Deviceprotectionplan</th>\n",
       "      <th>Premiumtechsupport</th>\n",
       "      <th>Streamingmusic</th>\n",
       "      <th>Unlimiteddata</th>\n",
       "    </tr>\n",
       "  </thead>\n",
       "  <tbody>\n",
       "    <tr>\n",
       "      <th>0</th>\n",
       "      <td>Yes</td>\n",
       "      <td>No</td>\n",
       "      <td>No</td>\n",
       "      <td>No</td>\n",
       "      <td>Yes</td>\n",
       "      <td>No</td>\n",
       "      <td>Offer E</td>\n",
       "      <td>DSL</td>\n",
       "      <td>No</td>\n",
       "      <td>No</td>\n",
       "      <td>No</td>\n",
       "      <td>Yes</td>\n",
       "    </tr>\n",
       "    <tr>\n",
       "      <th>1</th>\n",
       "      <td>No</td>\n",
       "      <td>No</td>\n",
       "      <td>No</td>\n",
       "      <td>No</td>\n",
       "      <td>No</td>\n",
       "      <td>No</td>\n",
       "      <td>None</td>\n",
       "      <td>DSL</td>\n",
       "      <td>Yes</td>\n",
       "      <td>No</td>\n",
       "      <td>No</td>\n",
       "      <td>Yes</td>\n",
       "    </tr>\n",
       "    <tr>\n",
       "      <th>2</th>\n",
       "      <td>No</td>\n",
       "      <td>No</td>\n",
       "      <td>Yes</td>\n",
       "      <td>No</td>\n",
       "      <td>No</td>\n",
       "      <td>No</td>\n",
       "      <td>None</td>\n",
       "      <td>DSL</td>\n",
       "      <td>No</td>\n",
       "      <td>No</td>\n",
       "      <td>No</td>\n",
       "      <td>Yes</td>\n",
       "    </tr>\n",
       "    <tr>\n",
       "      <th>3</th>\n",
       "      <td>No</td>\n",
       "      <td>Yes</td>\n",
       "      <td>No</td>\n",
       "      <td>No</td>\n",
       "      <td>No</td>\n",
       "      <td>No</td>\n",
       "      <td>None</td>\n",
       "      <td>DSL</td>\n",
       "      <td>Yes</td>\n",
       "      <td>Yes</td>\n",
       "      <td>No</td>\n",
       "      <td>Yes</td>\n",
       "    </tr>\n",
       "    <tr>\n",
       "      <th>4</th>\n",
       "      <td>No</td>\n",
       "      <td>No</td>\n",
       "      <td>Yes</td>\n",
       "      <td>Yes</td>\n",
       "      <td>No</td>\n",
       "      <td>No</td>\n",
       "      <td>None</td>\n",
       "      <td>Fiber Optic</td>\n",
       "      <td>No</td>\n",
       "      <td>No</td>\n",
       "      <td>No</td>\n",
       "      <td>Yes</td>\n",
       "    </tr>\n",
       "    <tr>\n",
       "      <th>...</th>\n",
       "      <td>...</td>\n",
       "      <td>...</td>\n",
       "      <td>...</td>\n",
       "      <td>...</td>\n",
       "      <td>...</td>\n",
       "      <td>...</td>\n",
       "      <td>...</td>\n",
       "      <td>...</td>\n",
       "      <td>...</td>\n",
       "      <td>...</td>\n",
       "      <td>...</td>\n",
       "      <td>...</td>\n",
       "    </tr>\n",
       "    <tr>\n",
       "      <th>7038</th>\n",
       "      <td>Yes</td>\n",
       "      <td>Yes</td>\n",
       "      <td>No</td>\n",
       "      <td>No</td>\n",
       "      <td>Yes</td>\n",
       "      <td>Yes</td>\n",
       "      <td>Offer C</td>\n",
       "      <td>Cable</td>\n",
       "      <td>Yes</td>\n",
       "      <td>Yes</td>\n",
       "      <td>Yes</td>\n",
       "      <td>Yes</td>\n",
       "    </tr>\n",
       "    <tr>\n",
       "      <th>7039</th>\n",
       "      <td>Yes</td>\n",
       "      <td>No</td>\n",
       "      <td>No</td>\n",
       "      <td>No</td>\n",
       "      <td>Yes</td>\n",
       "      <td>Yes</td>\n",
       "      <td>None</td>\n",
       "      <td>Fiber Optic</td>\n",
       "      <td>Yes</td>\n",
       "      <td>No</td>\n",
       "      <td>Yes</td>\n",
       "      <td>Yes</td>\n",
       "    </tr>\n",
       "    <tr>\n",
       "      <th>7040</th>\n",
       "      <td>Yes</td>\n",
       "      <td>No</td>\n",
       "      <td>No</td>\n",
       "      <td>No</td>\n",
       "      <td>Yes</td>\n",
       "      <td>Yes</td>\n",
       "      <td>None</td>\n",
       "      <td>DSL</td>\n",
       "      <td>No</td>\n",
       "      <td>No</td>\n",
       "      <td>No</td>\n",
       "      <td>Yes</td>\n",
       "    </tr>\n",
       "    <tr>\n",
       "      <th>7041</th>\n",
       "      <td>Yes</td>\n",
       "      <td>No</td>\n",
       "      <td>Yes</td>\n",
       "      <td>No</td>\n",
       "      <td>Yes</td>\n",
       "      <td>No</td>\n",
       "      <td>None</td>\n",
       "      <td>Fiber Optic</td>\n",
       "      <td>No</td>\n",
       "      <td>No</td>\n",
       "      <td>No</td>\n",
       "      <td>No</td>\n",
       "    </tr>\n",
       "    <tr>\n",
       "      <th>7042</th>\n",
       "      <td>No</td>\n",
       "      <td>Yes</td>\n",
       "      <td>No</td>\n",
       "      <td>No</td>\n",
       "      <td>No</td>\n",
       "      <td>No</td>\n",
       "      <td>None</td>\n",
       "      <td>Fiber Optic</td>\n",
       "      <td>Yes</td>\n",
       "      <td>Yes</td>\n",
       "      <td>Yes</td>\n",
       "      <td>Yes</td>\n",
       "    </tr>\n",
       "  </tbody>\n",
       "</table>\n",
       "<p>7043 rows × 12 columns</p>\n",
       "</div>"
      ],
      "text/plain": [
       "     Partner Techsupport Churn Under30 Married Referredafriend    Offer  \\\n",
       "0        Yes          No    No      No     Yes              No  Offer E   \n",
       "1         No          No    No      No      No              No     None   \n",
       "2         No          No   Yes      No      No              No     None   \n",
       "3         No         Yes    No      No      No              No     None   \n",
       "4         No          No   Yes     Yes      No              No     None   \n",
       "...      ...         ...   ...     ...     ...             ...      ...   \n",
       "7038     Yes         Yes    No      No     Yes             Yes  Offer C   \n",
       "7039     Yes          No    No      No     Yes             Yes     None   \n",
       "7040     Yes          No    No      No     Yes             Yes     None   \n",
       "7041     Yes          No   Yes      No     Yes              No     None   \n",
       "7042      No         Yes    No      No      No              No     None   \n",
       "\n",
       "     Internettype Deviceprotectionplan Premiumtechsupport Streamingmusic  \\\n",
       "0             DSL                   No                 No             No   \n",
       "1             DSL                  Yes                 No             No   \n",
       "2             DSL                   No                 No             No   \n",
       "3             DSL                  Yes                Yes             No   \n",
       "4     Fiber Optic                   No                 No             No   \n",
       "...           ...                  ...                ...            ...   \n",
       "7038        Cable                  Yes                Yes            Yes   \n",
       "7039  Fiber Optic                  Yes                 No            Yes   \n",
       "7040          DSL                   No                 No             No   \n",
       "7041  Fiber Optic                   No                 No             No   \n",
       "7042  Fiber Optic                  Yes                Yes            Yes   \n",
       "\n",
       "     Unlimiteddata  \n",
       "0              Yes  \n",
       "1              Yes  \n",
       "2              Yes  \n",
       "3              Yes  \n",
       "4              Yes  \n",
       "...            ...  \n",
       "7038           Yes  \n",
       "7039           Yes  \n",
       "7040           Yes  \n",
       "7041            No  \n",
       "7042           Yes  \n",
       "\n",
       "[7043 rows x 12 columns]"
      ]
     },
     "execution_count": 115,
     "metadata": {},
     "output_type": "execute_result"
    }
   ],
   "source": [
    "df_merged[categorical]"
   ]
  },
  {
   "cell_type": "code",
   "execution_count": 116,
   "id": "70d09b59",
   "metadata": {},
   "outputs": [
    {
     "data": {
      "application/vnd.microsoft.datawrangler.viewer.v0+json": {
       "columns": [
        {
         "name": "index",
         "rawType": "int64",
         "type": "integer"
        },
        {
         "name": "Offer",
         "rawType": "object",
         "type": "string"
        },
        {
         "name": "Internettype",
         "rawType": "object",
         "type": "string"
        }
       ],
       "ref": "1eccfc30-991a-4ce7-8227-265a9fa0382b",
       "rows": [
        [
         "0",
         "Offer E",
         "DSL"
        ],
        [
         "1",
         "None",
         "DSL"
        ],
        [
         "2",
         "None",
         "DSL"
        ],
        [
         "3",
         "None",
         "DSL"
        ],
        [
         "4",
         "None",
         "Fiber Optic"
        ],
        [
         "5",
         "None",
         "Cable"
        ],
        [
         "6",
         "Offer D",
         "Fiber Optic"
        ],
        [
         "7",
         "Offer D",
         "DSL"
        ],
        [
         "8",
         "Offer C",
         "Fiber Optic"
        ],
        [
         "9",
         "Offer B",
         "DSL"
        ],
        [
         "10",
         "Offer D",
         "DSL"
        ],
        [
         "11",
         "Offer D",
         "None"
        ],
        [
         "12",
         "Offer B",
         "Fiber Optic"
        ],
        [
         "13",
         "None",
         "Fiber Optic"
        ],
        [
         "14",
         "None",
         "Fiber Optic"
        ],
        [
         "15",
         "Offer A",
         "Fiber Optic"
        ],
        [
         "16",
         "Offer B",
         "None"
        ],
        [
         "17",
         "None",
         "Fiber Optic"
        ],
        [
         "18",
         "None",
         "Cable"
        ],
        [
         "19",
         "Offer D",
         "Fiber Optic"
        ],
        [
         "20",
         "None",
         "DSL"
        ],
        [
         "21",
         "Offer D",
         "None"
        ],
        [
         "22",
         "None",
         "None"
        ],
        [
         "23",
         "Offer B",
         "Cable"
        ],
        [
         "24",
         "Offer B",
         "Cable"
        ],
        [
         "25",
         "None",
         "Cable"
        ],
        [
         "26",
         "None",
         "Fiber Optic"
        ],
        [
         "27",
         "None",
         "DSL"
        ],
        [
         "28",
         "None",
         "DSL"
        ],
        [
         "29",
         "None",
         "Cable"
        ],
        [
         "30",
         "None",
         "Fiber Optic"
        ],
        [
         "31",
         "Offer E",
         "Fiber Optic"
        ],
        [
         "32",
         "None",
         "DSL"
        ],
        [
         "33",
         "Offer E",
         "None"
        ],
        [
         "34",
         "Offer E",
         "DSL"
        ],
        [
         "35",
         "None",
         "Fiber Optic"
        ],
        [
         "36",
         "None",
         "Fiber Optic"
        ],
        [
         "37",
         "Offer B",
         "Fiber Optic"
        ],
        [
         "38",
         "Offer C",
         "Fiber Optic"
        ],
        [
         "39",
         "None",
         "Cable"
        ],
        [
         "40",
         "Offer D",
         "DSL"
        ],
        [
         "41",
         "None",
         "DSL"
        ],
        [
         "42",
         "Offer D",
         "None"
        ],
        [
         "43",
         "Offer B",
         "DSL"
        ],
        [
         "44",
         "Offer D",
         "DSL"
        ],
        [
         "45",
         "Offer B",
         "Fiber Optic"
        ],
        [
         "46",
         "None",
         "DSL"
        ],
        [
         "47",
         "None",
         "Fiber Optic"
        ],
        [
         "48",
         "Offer B",
         "Cable"
        ],
        [
         "49",
         "None",
         "Cable"
        ]
       ],
       "shape": {
        "columns": 2,
        "rows": 7043
       }
      },
      "text/html": [
       "<div>\n",
       "<style scoped>\n",
       "    .dataframe tbody tr th:only-of-type {\n",
       "        vertical-align: middle;\n",
       "    }\n",
       "\n",
       "    .dataframe tbody tr th {\n",
       "        vertical-align: top;\n",
       "    }\n",
       "\n",
       "    .dataframe thead th {\n",
       "        text-align: right;\n",
       "    }\n",
       "</style>\n",
       "<table border=\"1\" class=\"dataframe\">\n",
       "  <thead>\n",
       "    <tr style=\"text-align: right;\">\n",
       "      <th></th>\n",
       "      <th>Offer</th>\n",
       "      <th>Internettype</th>\n",
       "    </tr>\n",
       "  </thead>\n",
       "  <tbody>\n",
       "    <tr>\n",
       "      <th>0</th>\n",
       "      <td>Offer E</td>\n",
       "      <td>DSL</td>\n",
       "    </tr>\n",
       "    <tr>\n",
       "      <th>1</th>\n",
       "      <td>None</td>\n",
       "      <td>DSL</td>\n",
       "    </tr>\n",
       "    <tr>\n",
       "      <th>2</th>\n",
       "      <td>None</td>\n",
       "      <td>DSL</td>\n",
       "    </tr>\n",
       "    <tr>\n",
       "      <th>3</th>\n",
       "      <td>None</td>\n",
       "      <td>DSL</td>\n",
       "    </tr>\n",
       "    <tr>\n",
       "      <th>4</th>\n",
       "      <td>None</td>\n",
       "      <td>Fiber Optic</td>\n",
       "    </tr>\n",
       "    <tr>\n",
       "      <th>...</th>\n",
       "      <td>...</td>\n",
       "      <td>...</td>\n",
       "    </tr>\n",
       "    <tr>\n",
       "      <th>7038</th>\n",
       "      <td>Offer C</td>\n",
       "      <td>Cable</td>\n",
       "    </tr>\n",
       "    <tr>\n",
       "      <th>7039</th>\n",
       "      <td>None</td>\n",
       "      <td>Fiber Optic</td>\n",
       "    </tr>\n",
       "    <tr>\n",
       "      <th>7040</th>\n",
       "      <td>None</td>\n",
       "      <td>DSL</td>\n",
       "    </tr>\n",
       "    <tr>\n",
       "      <th>7041</th>\n",
       "      <td>None</td>\n",
       "      <td>Fiber Optic</td>\n",
       "    </tr>\n",
       "    <tr>\n",
       "      <th>7042</th>\n",
       "      <td>None</td>\n",
       "      <td>Fiber Optic</td>\n",
       "    </tr>\n",
       "  </tbody>\n",
       "</table>\n",
       "<p>7043 rows × 2 columns</p>\n",
       "</div>"
      ],
      "text/plain": [
       "        Offer Internettype\n",
       "0     Offer E          DSL\n",
       "1        None          DSL\n",
       "2        None          DSL\n",
       "3        None          DSL\n",
       "4        None  Fiber Optic\n",
       "...       ...          ...\n",
       "7038  Offer C        Cable\n",
       "7039     None  Fiber Optic\n",
       "7040     None          DSL\n",
       "7041     None  Fiber Optic\n",
       "7042     None  Fiber Optic\n",
       "\n",
       "[7043 rows x 2 columns]"
      ]
     },
     "execution_count": 116,
     "metadata": {},
     "output_type": "execute_result"
    }
   ],
   "source": [
    "non_binary_categorical = ['Offer','Internettype']\n",
    "df_merged[non_binary_categorical]"
   ]
  },
  {
   "cell_type": "code",
   "execution_count": 117,
   "id": "03f332dd",
   "metadata": {},
   "outputs": [],
   "source": [
    "dummies = pd.get_dummies(df_merged[non_binary_categorical], drop_first=True, dtype=float)\n",
    "df_merged.drop(columns=non_binary_categorical, inplace=True)\n",
    "df_merged = pd.concat([df_merged, dummies], axis=1)\n"
   ]
  },
  {
   "cell_type": "code",
   "execution_count": 118,
   "id": "e4223e4e",
   "metadata": {},
   "outputs": [
    {
     "name": "stdout",
     "output_type": "stream",
     "text": [
      "Categorical columns are  10 ['Partner', 'Techsupport', 'Churn', 'Under30', 'Married', 'Referredafriend', 'Deviceprotectionplan', 'Premiumtechsupport', 'Streamingmusic', 'Unlimiteddata']\n"
     ]
    }
   ],
   "source": [
    "categorical = df_merged.select_dtypes(include='object').columns.to_list()\n",
    "\n",
    "print(\"Categorical columns are \", len(categorical)  , categorical)"
   ]
  },
  {
   "cell_type": "code",
   "execution_count": 119,
   "id": "433e736f",
   "metadata": {},
   "outputs": [
    {
     "data": {
      "application/vnd.microsoft.datawrangler.viewer.v0+json": {
       "columns": [
        {
         "name": "index",
         "rawType": "object",
         "type": "string"
        },
        {
         "name": "0",
         "rawType": "int64",
         "type": "integer"
        }
       ],
       "ref": "1f06aaa9-f5e3-4bdf-b033-6554548d3bdc",
       "rows": [
        [
         "Partner",
         "2"
        ],
        [
         "Techsupport",
         "3"
        ],
        [
         "Churn",
         "2"
        ],
        [
         "Under30",
         "2"
        ],
        [
         "Married",
         "2"
        ],
        [
         "Referredafriend",
         "2"
        ],
        [
         "Deviceprotectionplan",
         "2"
        ],
        [
         "Premiumtechsupport",
         "2"
        ],
        [
         "Streamingmusic",
         "2"
        ],
        [
         "Unlimiteddata",
         "2"
        ]
       ],
       "shape": {
        "columns": 1,
        "rows": 10
       }
      },
      "text/plain": [
       "Partner                 2\n",
       "Techsupport             3\n",
       "Churn                   2\n",
       "Under30                 2\n",
       "Married                 2\n",
       "Referredafriend         2\n",
       "Deviceprotectionplan    2\n",
       "Premiumtechsupport      2\n",
       "Streamingmusic          2\n",
       "Unlimiteddata           2\n",
       "dtype: int64"
      ]
     },
     "execution_count": 119,
     "metadata": {},
     "output_type": "execute_result"
    }
   ],
   "source": [
    "df_merged[categorical].nunique()"
   ]
  },
  {
   "cell_type": "code",
   "execution_count": 120,
   "id": "2d15b842",
   "metadata": {},
   "outputs": [
    {
     "data": {
      "application/vnd.microsoft.datawrangler.viewer.v0+json": {
       "columns": [
        {
         "name": "index",
         "rawType": "object",
         "type": "string"
        },
        {
         "name": "Techsupport",
         "rawType": "int64",
         "type": "integer"
        }
       ],
       "ref": "a16bd272-bc0d-4e4b-b062-7542f46f417a",
       "rows": [
        [
         "No",
         "3473"
        ],
        [
         "Yes",
         "2044"
        ],
        [
         "No internet service",
         "1526"
        ]
       ],
       "shape": {
        "columns": 1,
        "rows": 3
       }
      },
      "text/plain": [
       "No                     3473\n",
       "Yes                    2044\n",
       "No internet service    1526\n",
       "Name: Techsupport, dtype: int64"
      ]
     },
     "execution_count": 120,
     "metadata": {},
     "output_type": "execute_result"
    }
   ],
   "source": [
    "df_merged['Techsupport'].value_counts()"
   ]
  },
  {
   "cell_type": "code",
   "execution_count": 121,
   "id": "d9490fe1",
   "metadata": {},
   "outputs": [],
   "source": [
    "df_merged[categorical] = df_merged[categorical].apply(lambda col: col.map({'Yes': 1, 'No': 0 , \"No internet service\":0}))\n"
   ]
  },
  {
   "cell_type": "code",
   "execution_count": 122,
   "id": "4056919c",
   "metadata": {},
   "outputs": [
    {
     "data": {
      "application/vnd.microsoft.datawrangler.viewer.v0+json": {
       "columns": [
        {
         "name": "index",
         "rawType": "object",
         "type": "string"
        },
        {
         "name": "0",
         "rawType": "int64",
         "type": "integer"
        }
       ],
       "ref": "96c0d2e9-bea0-4281-b6b8-63191c061756",
       "rows": [
        [
         "int64",
         "16"
        ],
        [
         "float64",
         "10"
        ]
       ],
       "shape": {
        "columns": 1,
        "rows": 2
       }
      },
      "text/plain": [
       "int64      16\n",
       "float64    10\n",
       "dtype: int64"
      ]
     },
     "execution_count": 122,
     "metadata": {},
     "output_type": "execute_result"
    }
   ],
   "source": [
    "df_merged.dtypes.value_counts()"
   ]
  },
  {
   "cell_type": "code",
   "execution_count": 123,
   "id": "ee7c9a21",
   "metadata": {},
   "outputs": [
    {
     "data": {
      "application/vnd.microsoft.datawrangler.viewer.v0+json": {
       "columns": [
        {
         "name": "index",
         "rawType": "int64",
         "type": "integer"
        },
        {
         "name": "Partner",
         "rawType": "int64",
         "type": "integer"
        },
        {
         "name": "Tenure",
         "rawType": "int64",
         "type": "integer"
        },
        {
         "name": "Techsupport",
         "rawType": "int64",
         "type": "integer"
        },
        {
         "name": "Churn",
         "rawType": "int64",
         "type": "integer"
        },
        {
         "name": "Age",
         "rawType": "int64",
         "type": "integer"
        },
        {
         "name": "Under30",
         "rawType": "int64",
         "type": "integer"
        },
        {
         "name": "Married",
         "rawType": "int64",
         "type": "integer"
        },
        {
         "name": "Numberofdependents",
         "rawType": "int64",
         "type": "integer"
        },
        {
         "name": "Referredafriend",
         "rawType": "int64",
         "type": "integer"
        },
        {
         "name": "Numberofreferrals",
         "rawType": "int64",
         "type": "integer"
        },
        {
         "name": "Avgmonthlylongdistancecharges",
         "rawType": "float64",
         "type": "float"
        },
        {
         "name": "Avgmonthlygbdownload",
         "rawType": "int64",
         "type": "integer"
        },
        {
         "name": "Deviceprotectionplan",
         "rawType": "int64",
         "type": "integer"
        },
        {
         "name": "Premiumtechsupport",
         "rawType": "int64",
         "type": "integer"
        },
        {
         "name": "Streamingmusic",
         "rawType": "int64",
         "type": "integer"
        },
        {
         "name": "Unlimiteddata",
         "rawType": "int64",
         "type": "integer"
        },
        {
         "name": "Monthlycharge",
         "rawType": "float64",
         "type": "float"
        },
        {
         "name": "Satisfactionscore",
         "rawType": "int64",
         "type": "integer"
        },
        {
         "name": "Offer_Offer A",
         "rawType": "float64",
         "type": "float"
        },
        {
         "name": "Offer_Offer B",
         "rawType": "float64",
         "type": "float"
        },
        {
         "name": "Offer_Offer C",
         "rawType": "float64",
         "type": "float"
        },
        {
         "name": "Offer_Offer D",
         "rawType": "float64",
         "type": "float"
        },
        {
         "name": "Offer_Offer E",
         "rawType": "float64",
         "type": "float"
        },
        {
         "name": "Internettype_DSL",
         "rawType": "float64",
         "type": "float"
        },
        {
         "name": "Internettype_Fiber Optic",
         "rawType": "float64",
         "type": "float"
        },
        {
         "name": "Internettype_None",
         "rawType": "float64",
         "type": "float"
        }
       ],
       "ref": "65de187e-933c-4d51-98d9-794696bbb3d6",
       "rows": [
        [
         "0",
         "1",
         "1",
         "0",
         "0",
         "36",
         "0",
         "1",
         "0",
         "0",
         "0",
         "0.0",
         "10",
         "0",
         "0",
         "0",
         "1",
         "29.85",
         "3",
         "0.0",
         "0.0",
         "0.0",
         "0.0",
         "1.0",
         "1.0",
         "0.0",
         "0.0"
        ],
        [
         "1",
         "0",
         "34",
         "0",
         "0",
         "46",
         "0",
         "0",
         "0",
         "0",
         "0",
         "17.09",
         "16",
         "1",
         "0",
         "0",
         "1",
         "56.95",
         "3",
         "0.0",
         "0.0",
         "0.0",
         "0.0",
         "0.0",
         "1.0",
         "0.0",
         "0.0"
        ],
        [
         "2",
         "0",
         "2",
         "0",
         "1",
         "37",
         "0",
         "0",
         "0",
         "0",
         "0",
         "10.47",
         "21",
         "0",
         "0",
         "0",
         "1",
         "53.85",
         "1",
         "0.0",
         "0.0",
         "0.0",
         "0.0",
         "0.0",
         "1.0",
         "0.0",
         "0.0"
        ],
        [
         "3",
         "0",
         "45",
         "1",
         "0",
         "53",
         "0",
         "0",
         "0",
         "0",
         "0",
         "0.0",
         "10",
         "1",
         "1",
         "0",
         "1",
         "42.3",
         "3",
         "0.0",
         "0.0",
         "0.0",
         "0.0",
         "0.0",
         "1.0",
         "0.0",
         "0.0"
        ],
        [
         "4",
         "0",
         "2",
         "0",
         "1",
         "19",
         "1",
         "0",
         "2",
         "0",
         "0",
         "9.12",
         "51",
         "0",
         "0",
         "0",
         "1",
         "70.7",
         "2",
         "0.0",
         "0.0",
         "0.0",
         "0.0",
         "0.0",
         "0.0",
         "1.0",
         "0.0"
        ]
       ],
       "shape": {
        "columns": 26,
        "rows": 5
       }
      },
      "text/html": [
       "<div>\n",
       "<style scoped>\n",
       "    .dataframe tbody tr th:only-of-type {\n",
       "        vertical-align: middle;\n",
       "    }\n",
       "\n",
       "    .dataframe tbody tr th {\n",
       "        vertical-align: top;\n",
       "    }\n",
       "\n",
       "    .dataframe thead th {\n",
       "        text-align: right;\n",
       "    }\n",
       "</style>\n",
       "<table border=\"1\" class=\"dataframe\">\n",
       "  <thead>\n",
       "    <tr style=\"text-align: right;\">\n",
       "      <th></th>\n",
       "      <th>Partner</th>\n",
       "      <th>Tenure</th>\n",
       "      <th>Techsupport</th>\n",
       "      <th>Churn</th>\n",
       "      <th>Age</th>\n",
       "      <th>Under30</th>\n",
       "      <th>Married</th>\n",
       "      <th>Numberofdependents</th>\n",
       "      <th>Referredafriend</th>\n",
       "      <th>Numberofreferrals</th>\n",
       "      <th>...</th>\n",
       "      <th>Monthlycharge</th>\n",
       "      <th>Satisfactionscore</th>\n",
       "      <th>Offer_Offer A</th>\n",
       "      <th>Offer_Offer B</th>\n",
       "      <th>Offer_Offer C</th>\n",
       "      <th>Offer_Offer D</th>\n",
       "      <th>Offer_Offer E</th>\n",
       "      <th>Internettype_DSL</th>\n",
       "      <th>Internettype_Fiber Optic</th>\n",
       "      <th>Internettype_None</th>\n",
       "    </tr>\n",
       "  </thead>\n",
       "  <tbody>\n",
       "    <tr>\n",
       "      <th>0</th>\n",
       "      <td>1</td>\n",
       "      <td>1</td>\n",
       "      <td>0</td>\n",
       "      <td>0</td>\n",
       "      <td>36</td>\n",
       "      <td>0</td>\n",
       "      <td>1</td>\n",
       "      <td>0</td>\n",
       "      <td>0</td>\n",
       "      <td>0</td>\n",
       "      <td>...</td>\n",
       "      <td>29.85</td>\n",
       "      <td>3</td>\n",
       "      <td>0.0</td>\n",
       "      <td>0.0</td>\n",
       "      <td>0.0</td>\n",
       "      <td>0.0</td>\n",
       "      <td>1.0</td>\n",
       "      <td>1.0</td>\n",
       "      <td>0.0</td>\n",
       "      <td>0.0</td>\n",
       "    </tr>\n",
       "    <tr>\n",
       "      <th>1</th>\n",
       "      <td>0</td>\n",
       "      <td>34</td>\n",
       "      <td>0</td>\n",
       "      <td>0</td>\n",
       "      <td>46</td>\n",
       "      <td>0</td>\n",
       "      <td>0</td>\n",
       "      <td>0</td>\n",
       "      <td>0</td>\n",
       "      <td>0</td>\n",
       "      <td>...</td>\n",
       "      <td>56.95</td>\n",
       "      <td>3</td>\n",
       "      <td>0.0</td>\n",
       "      <td>0.0</td>\n",
       "      <td>0.0</td>\n",
       "      <td>0.0</td>\n",
       "      <td>0.0</td>\n",
       "      <td>1.0</td>\n",
       "      <td>0.0</td>\n",
       "      <td>0.0</td>\n",
       "    </tr>\n",
       "    <tr>\n",
       "      <th>2</th>\n",
       "      <td>0</td>\n",
       "      <td>2</td>\n",
       "      <td>0</td>\n",
       "      <td>1</td>\n",
       "      <td>37</td>\n",
       "      <td>0</td>\n",
       "      <td>0</td>\n",
       "      <td>0</td>\n",
       "      <td>0</td>\n",
       "      <td>0</td>\n",
       "      <td>...</td>\n",
       "      <td>53.85</td>\n",
       "      <td>1</td>\n",
       "      <td>0.0</td>\n",
       "      <td>0.0</td>\n",
       "      <td>0.0</td>\n",
       "      <td>0.0</td>\n",
       "      <td>0.0</td>\n",
       "      <td>1.0</td>\n",
       "      <td>0.0</td>\n",
       "      <td>0.0</td>\n",
       "    </tr>\n",
       "    <tr>\n",
       "      <th>3</th>\n",
       "      <td>0</td>\n",
       "      <td>45</td>\n",
       "      <td>1</td>\n",
       "      <td>0</td>\n",
       "      <td>53</td>\n",
       "      <td>0</td>\n",
       "      <td>0</td>\n",
       "      <td>0</td>\n",
       "      <td>0</td>\n",
       "      <td>0</td>\n",
       "      <td>...</td>\n",
       "      <td>42.30</td>\n",
       "      <td>3</td>\n",
       "      <td>0.0</td>\n",
       "      <td>0.0</td>\n",
       "      <td>0.0</td>\n",
       "      <td>0.0</td>\n",
       "      <td>0.0</td>\n",
       "      <td>1.0</td>\n",
       "      <td>0.0</td>\n",
       "      <td>0.0</td>\n",
       "    </tr>\n",
       "    <tr>\n",
       "      <th>4</th>\n",
       "      <td>0</td>\n",
       "      <td>2</td>\n",
       "      <td>0</td>\n",
       "      <td>1</td>\n",
       "      <td>19</td>\n",
       "      <td>1</td>\n",
       "      <td>0</td>\n",
       "      <td>2</td>\n",
       "      <td>0</td>\n",
       "      <td>0</td>\n",
       "      <td>...</td>\n",
       "      <td>70.70</td>\n",
       "      <td>2</td>\n",
       "      <td>0.0</td>\n",
       "      <td>0.0</td>\n",
       "      <td>0.0</td>\n",
       "      <td>0.0</td>\n",
       "      <td>0.0</td>\n",
       "      <td>0.0</td>\n",
       "      <td>1.0</td>\n",
       "      <td>0.0</td>\n",
       "    </tr>\n",
       "  </tbody>\n",
       "</table>\n",
       "<p>5 rows × 26 columns</p>\n",
       "</div>"
      ],
      "text/plain": [
       "   Partner  Tenure  Techsupport  Churn  Age  Under30  Married  \\\n",
       "0        1       1            0      0   36        0        1   \n",
       "1        0      34            0      0   46        0        0   \n",
       "2        0       2            0      1   37        0        0   \n",
       "3        0      45            1      0   53        0        0   \n",
       "4        0       2            0      1   19        1        0   \n",
       "\n",
       "   Numberofdependents  Referredafriend  Numberofreferrals  ...  Monthlycharge  \\\n",
       "0                   0                0                  0  ...          29.85   \n",
       "1                   0                0                  0  ...          56.95   \n",
       "2                   0                0                  0  ...          53.85   \n",
       "3                   0                0                  0  ...          42.30   \n",
       "4                   2                0                  0  ...          70.70   \n",
       "\n",
       "   Satisfactionscore  Offer_Offer A  Offer_Offer B  Offer_Offer C  \\\n",
       "0                  3            0.0            0.0            0.0   \n",
       "1                  3            0.0            0.0            0.0   \n",
       "2                  1            0.0            0.0            0.0   \n",
       "3                  3            0.0            0.0            0.0   \n",
       "4                  2            0.0            0.0            0.0   \n",
       "\n",
       "   Offer_Offer D  Offer_Offer E  Internettype_DSL  Internettype_Fiber Optic  \\\n",
       "0            0.0            1.0               1.0                       0.0   \n",
       "1            0.0            0.0               1.0                       0.0   \n",
       "2            0.0            0.0               1.0                       0.0   \n",
       "3            0.0            0.0               1.0                       0.0   \n",
       "4            0.0            0.0               0.0                       1.0   \n",
       "\n",
       "   Internettype_None  \n",
       "0                0.0  \n",
       "1                0.0  \n",
       "2                0.0  \n",
       "3                0.0  \n",
       "4                0.0  \n",
       "\n",
       "[5 rows x 26 columns]"
      ]
     },
     "execution_count": 123,
     "metadata": {},
     "output_type": "execute_result"
    }
   ],
   "source": [
    "df_merged.head()"
   ]
  },
  {
   "cell_type": "code",
   "execution_count": 124,
   "id": "bbc0a151",
   "metadata": {},
   "outputs": [
    {
     "data": {
      "application/vnd.microsoft.datawrangler.viewer.v0+json": {
       "columns": [
        {
         "name": "index",
         "rawType": "object",
         "type": "string"
        },
        {
         "name": "Partner",
         "rawType": "float64",
         "type": "float"
        },
        {
         "name": "Tenure",
         "rawType": "float64",
         "type": "float"
        },
        {
         "name": "Techsupport",
         "rawType": "float64",
         "type": "float"
        },
        {
         "name": "Churn",
         "rawType": "float64",
         "type": "float"
        },
        {
         "name": "Age",
         "rawType": "float64",
         "type": "float"
        },
        {
         "name": "Under30",
         "rawType": "float64",
         "type": "float"
        },
        {
         "name": "Married",
         "rawType": "float64",
         "type": "float"
        },
        {
         "name": "Numberofdependents",
         "rawType": "float64",
         "type": "float"
        },
        {
         "name": "Referredafriend",
         "rawType": "float64",
         "type": "float"
        },
        {
         "name": "Numberofreferrals",
         "rawType": "float64",
         "type": "float"
        },
        {
         "name": "Avgmonthlylongdistancecharges",
         "rawType": "float64",
         "type": "float"
        },
        {
         "name": "Avgmonthlygbdownload",
         "rawType": "float64",
         "type": "float"
        },
        {
         "name": "Deviceprotectionplan",
         "rawType": "float64",
         "type": "float"
        },
        {
         "name": "Premiumtechsupport",
         "rawType": "float64",
         "type": "float"
        },
        {
         "name": "Streamingmusic",
         "rawType": "float64",
         "type": "float"
        },
        {
         "name": "Unlimiteddata",
         "rawType": "float64",
         "type": "float"
        },
        {
         "name": "Monthlycharge",
         "rawType": "float64",
         "type": "float"
        },
        {
         "name": "Satisfactionscore",
         "rawType": "float64",
         "type": "float"
        },
        {
         "name": "Offer_Offer A",
         "rawType": "float64",
         "type": "float"
        },
        {
         "name": "Offer_Offer B",
         "rawType": "float64",
         "type": "float"
        },
        {
         "name": "Offer_Offer C",
         "rawType": "float64",
         "type": "float"
        },
        {
         "name": "Offer_Offer D",
         "rawType": "float64",
         "type": "float"
        },
        {
         "name": "Offer_Offer E",
         "rawType": "float64",
         "type": "float"
        },
        {
         "name": "Internettype_DSL",
         "rawType": "float64",
         "type": "float"
        },
        {
         "name": "Internettype_Fiber Optic",
         "rawType": "float64",
         "type": "float"
        },
        {
         "name": "Internettype_None",
         "rawType": "float64",
         "type": "float"
        }
       ],
       "ref": "5f13c751-1f79-4be4-b494-d822f5a7f44c",
       "rows": [
        [
         "count",
         "7043.0",
         "7043.0",
         "7043.0",
         "7043.0",
         "7043.0",
         "7043.0",
         "7043.0",
         "7043.0",
         "7043.0",
         "7043.0",
         "7043.0",
         "7043.0",
         "7043.0",
         "7043.0",
         "7043.0",
         "7043.0",
         "7043.0",
         "7043.0",
         "7043.0",
         "7043.0",
         "7043.0",
         "7043.0",
         "7043.0",
         "7043.0",
         "7043.0",
         "7043.0"
        ],
        [
         "mean",
         "0.4830327985233565",
         "32.37114865824223",
         "0.2902172369728809",
         "0.2653698707936959",
         "46.50972596904728",
         "0.19892091438307538",
         "0.4830327985233565",
         "0.4686923186142269",
         "0.4574755075961948",
         "1.9518671020871787",
         "22.958953570921484",
         "20.515405367031093",
         "0.3438875479199205",
         "0.2902172369728809",
         "0.3532585545932131",
         "0.6737185858299021",
         "64.76169246059918",
         "3.2449240380519666",
         "0.0738321737895783",
         "0.11699559846656254",
         "0.0589237540820673",
         "0.08547493965639642",
         "0.11429788442425103",
         "0.23455913673150647",
         "0.4309243220218657",
         "0.21666903308249325"
        ],
        [
         "std",
         "0.49974751071998735",
         "24.55948102309446",
         "0.4538947500677709",
         "0.441561305121947",
         "16.750351655102634",
         "0.39921674929199447",
         "0.49974751071998735",
         "0.9628019509440209",
         "0.49822375699216886",
         "3.0011992998901005",
         "15.448113345456905",
         "20.418940392245453",
         "0.4750378329808361",
         "0.4538947500677709",
         "0.47801609980683335",
         "0.46888492059794995",
         "30.090047097678493",
         "1.2016571225409585",
         "0.26151614549081714",
         "0.3214378612070686",
         "0.2354986618183926",
         "0.27960700052234616",
         "0.3181953075841935",
         "0.4237530458511838",
         "0.49524072370890065",
         "0.4120044475478647"
        ],
        [
         "min",
         "0.0",
         "0.0",
         "0.0",
         "0.0",
         "19.0",
         "0.0",
         "0.0",
         "0.0",
         "0.0",
         "0.0",
         "0.0",
         "0.0",
         "0.0",
         "0.0",
         "0.0",
         "0.0",
         "18.25",
         "1.0",
         "0.0",
         "0.0",
         "0.0",
         "0.0",
         "0.0",
         "0.0",
         "0.0",
         "0.0"
        ],
        [
         "25%",
         "0.0",
         "9.0",
         "0.0",
         "0.0",
         "32.0",
         "0.0",
         "0.0",
         "0.0",
         "0.0",
         "0.0",
         "9.21",
         "3.0",
         "0.0",
         "0.0",
         "0.0",
         "0.0",
         "35.5",
         "3.0",
         "0.0",
         "0.0",
         "0.0",
         "0.0",
         "0.0",
         "0.0",
         "0.0",
         "0.0"
        ],
        [
         "50%",
         "0.0",
         "29.0",
         "0.0",
         "0.0",
         "46.0",
         "0.0",
         "0.0",
         "0.0",
         "0.0",
         "0.0",
         "22.89",
         "17.0",
         "0.0",
         "0.0",
         "0.0",
         "1.0",
         "70.35",
         "3.0",
         "0.0",
         "0.0",
         "0.0",
         "0.0",
         "0.0",
         "0.0",
         "0.0",
         "0.0"
        ],
        [
         "75%",
         "1.0",
         "55.0",
         "1.0",
         "1.0",
         "60.0",
         "0.0",
         "1.0",
         "0.0",
         "1.0",
         "3.0",
         "36.394999999999996",
         "27.0",
         "1.0",
         "1.0",
         "1.0",
         "1.0",
         "89.85",
         "4.0",
         "0.0",
         "0.0",
         "0.0",
         "0.0",
         "0.0",
         "0.0",
         "1.0",
         "0.0"
        ],
        [
         "max",
         "1.0",
         "72.0",
         "1.0",
         "1.0",
         "80.0",
         "1.0",
         "1.0",
         "9.0",
         "1.0",
         "11.0",
         "49.99",
         "85.0",
         "1.0",
         "1.0",
         "1.0",
         "1.0",
         "118.75",
         "5.0",
         "1.0",
         "1.0",
         "1.0",
         "1.0",
         "1.0",
         "1.0",
         "1.0",
         "1.0"
        ]
       ],
       "shape": {
        "columns": 26,
        "rows": 8
       }
      },
      "text/html": [
       "<div>\n",
       "<style scoped>\n",
       "    .dataframe tbody tr th:only-of-type {\n",
       "        vertical-align: middle;\n",
       "    }\n",
       "\n",
       "    .dataframe tbody tr th {\n",
       "        vertical-align: top;\n",
       "    }\n",
       "\n",
       "    .dataframe thead th {\n",
       "        text-align: right;\n",
       "    }\n",
       "</style>\n",
       "<table border=\"1\" class=\"dataframe\">\n",
       "  <thead>\n",
       "    <tr style=\"text-align: right;\">\n",
       "      <th></th>\n",
       "      <th>Partner</th>\n",
       "      <th>Tenure</th>\n",
       "      <th>Techsupport</th>\n",
       "      <th>Churn</th>\n",
       "      <th>Age</th>\n",
       "      <th>Under30</th>\n",
       "      <th>Married</th>\n",
       "      <th>Numberofdependents</th>\n",
       "      <th>Referredafriend</th>\n",
       "      <th>Numberofreferrals</th>\n",
       "      <th>...</th>\n",
       "      <th>Monthlycharge</th>\n",
       "      <th>Satisfactionscore</th>\n",
       "      <th>Offer_Offer A</th>\n",
       "      <th>Offer_Offer B</th>\n",
       "      <th>Offer_Offer C</th>\n",
       "      <th>Offer_Offer D</th>\n",
       "      <th>Offer_Offer E</th>\n",
       "      <th>Internettype_DSL</th>\n",
       "      <th>Internettype_Fiber Optic</th>\n",
       "      <th>Internettype_None</th>\n",
       "    </tr>\n",
       "  </thead>\n",
       "  <tbody>\n",
       "    <tr>\n",
       "      <th>count</th>\n",
       "      <td>7043.000000</td>\n",
       "      <td>7043.000000</td>\n",
       "      <td>7043.000000</td>\n",
       "      <td>7043.000000</td>\n",
       "      <td>7043.000000</td>\n",
       "      <td>7043.000000</td>\n",
       "      <td>7043.000000</td>\n",
       "      <td>7043.000000</td>\n",
       "      <td>7043.000000</td>\n",
       "      <td>7043.000000</td>\n",
       "      <td>...</td>\n",
       "      <td>7043.000000</td>\n",
       "      <td>7043.000000</td>\n",
       "      <td>7043.000000</td>\n",
       "      <td>7043.000000</td>\n",
       "      <td>7043.000000</td>\n",
       "      <td>7043.000000</td>\n",
       "      <td>7043.000000</td>\n",
       "      <td>7043.000000</td>\n",
       "      <td>7043.000000</td>\n",
       "      <td>7043.000000</td>\n",
       "    </tr>\n",
       "    <tr>\n",
       "      <th>mean</th>\n",
       "      <td>0.483033</td>\n",
       "      <td>32.371149</td>\n",
       "      <td>0.290217</td>\n",
       "      <td>0.265370</td>\n",
       "      <td>46.509726</td>\n",
       "      <td>0.198921</td>\n",
       "      <td>0.483033</td>\n",
       "      <td>0.468692</td>\n",
       "      <td>0.457476</td>\n",
       "      <td>1.951867</td>\n",
       "      <td>...</td>\n",
       "      <td>64.761692</td>\n",
       "      <td>3.244924</td>\n",
       "      <td>0.073832</td>\n",
       "      <td>0.116996</td>\n",
       "      <td>0.058924</td>\n",
       "      <td>0.085475</td>\n",
       "      <td>0.114298</td>\n",
       "      <td>0.234559</td>\n",
       "      <td>0.430924</td>\n",
       "      <td>0.216669</td>\n",
       "    </tr>\n",
       "    <tr>\n",
       "      <th>std</th>\n",
       "      <td>0.499748</td>\n",
       "      <td>24.559481</td>\n",
       "      <td>0.453895</td>\n",
       "      <td>0.441561</td>\n",
       "      <td>16.750352</td>\n",
       "      <td>0.399217</td>\n",
       "      <td>0.499748</td>\n",
       "      <td>0.962802</td>\n",
       "      <td>0.498224</td>\n",
       "      <td>3.001199</td>\n",
       "      <td>...</td>\n",
       "      <td>30.090047</td>\n",
       "      <td>1.201657</td>\n",
       "      <td>0.261516</td>\n",
       "      <td>0.321438</td>\n",
       "      <td>0.235499</td>\n",
       "      <td>0.279607</td>\n",
       "      <td>0.318195</td>\n",
       "      <td>0.423753</td>\n",
       "      <td>0.495241</td>\n",
       "      <td>0.412004</td>\n",
       "    </tr>\n",
       "    <tr>\n",
       "      <th>min</th>\n",
       "      <td>0.000000</td>\n",
       "      <td>0.000000</td>\n",
       "      <td>0.000000</td>\n",
       "      <td>0.000000</td>\n",
       "      <td>19.000000</td>\n",
       "      <td>0.000000</td>\n",
       "      <td>0.000000</td>\n",
       "      <td>0.000000</td>\n",
       "      <td>0.000000</td>\n",
       "      <td>0.000000</td>\n",
       "      <td>...</td>\n",
       "      <td>18.250000</td>\n",
       "      <td>1.000000</td>\n",
       "      <td>0.000000</td>\n",
       "      <td>0.000000</td>\n",
       "      <td>0.000000</td>\n",
       "      <td>0.000000</td>\n",
       "      <td>0.000000</td>\n",
       "      <td>0.000000</td>\n",
       "      <td>0.000000</td>\n",
       "      <td>0.000000</td>\n",
       "    </tr>\n",
       "    <tr>\n",
       "      <th>25%</th>\n",
       "      <td>0.000000</td>\n",
       "      <td>9.000000</td>\n",
       "      <td>0.000000</td>\n",
       "      <td>0.000000</td>\n",
       "      <td>32.000000</td>\n",
       "      <td>0.000000</td>\n",
       "      <td>0.000000</td>\n",
       "      <td>0.000000</td>\n",
       "      <td>0.000000</td>\n",
       "      <td>0.000000</td>\n",
       "      <td>...</td>\n",
       "      <td>35.500000</td>\n",
       "      <td>3.000000</td>\n",
       "      <td>0.000000</td>\n",
       "      <td>0.000000</td>\n",
       "      <td>0.000000</td>\n",
       "      <td>0.000000</td>\n",
       "      <td>0.000000</td>\n",
       "      <td>0.000000</td>\n",
       "      <td>0.000000</td>\n",
       "      <td>0.000000</td>\n",
       "    </tr>\n",
       "    <tr>\n",
       "      <th>50%</th>\n",
       "      <td>0.000000</td>\n",
       "      <td>29.000000</td>\n",
       "      <td>0.000000</td>\n",
       "      <td>0.000000</td>\n",
       "      <td>46.000000</td>\n",
       "      <td>0.000000</td>\n",
       "      <td>0.000000</td>\n",
       "      <td>0.000000</td>\n",
       "      <td>0.000000</td>\n",
       "      <td>0.000000</td>\n",
       "      <td>...</td>\n",
       "      <td>70.350000</td>\n",
       "      <td>3.000000</td>\n",
       "      <td>0.000000</td>\n",
       "      <td>0.000000</td>\n",
       "      <td>0.000000</td>\n",
       "      <td>0.000000</td>\n",
       "      <td>0.000000</td>\n",
       "      <td>0.000000</td>\n",
       "      <td>0.000000</td>\n",
       "      <td>0.000000</td>\n",
       "    </tr>\n",
       "    <tr>\n",
       "      <th>75%</th>\n",
       "      <td>1.000000</td>\n",
       "      <td>55.000000</td>\n",
       "      <td>1.000000</td>\n",
       "      <td>1.000000</td>\n",
       "      <td>60.000000</td>\n",
       "      <td>0.000000</td>\n",
       "      <td>1.000000</td>\n",
       "      <td>0.000000</td>\n",
       "      <td>1.000000</td>\n",
       "      <td>3.000000</td>\n",
       "      <td>...</td>\n",
       "      <td>89.850000</td>\n",
       "      <td>4.000000</td>\n",
       "      <td>0.000000</td>\n",
       "      <td>0.000000</td>\n",
       "      <td>0.000000</td>\n",
       "      <td>0.000000</td>\n",
       "      <td>0.000000</td>\n",
       "      <td>0.000000</td>\n",
       "      <td>1.000000</td>\n",
       "      <td>0.000000</td>\n",
       "    </tr>\n",
       "    <tr>\n",
       "      <th>max</th>\n",
       "      <td>1.000000</td>\n",
       "      <td>72.000000</td>\n",
       "      <td>1.000000</td>\n",
       "      <td>1.000000</td>\n",
       "      <td>80.000000</td>\n",
       "      <td>1.000000</td>\n",
       "      <td>1.000000</td>\n",
       "      <td>9.000000</td>\n",
       "      <td>1.000000</td>\n",
       "      <td>11.000000</td>\n",
       "      <td>...</td>\n",
       "      <td>118.750000</td>\n",
       "      <td>5.000000</td>\n",
       "      <td>1.000000</td>\n",
       "      <td>1.000000</td>\n",
       "      <td>1.000000</td>\n",
       "      <td>1.000000</td>\n",
       "      <td>1.000000</td>\n",
       "      <td>1.000000</td>\n",
       "      <td>1.000000</td>\n",
       "      <td>1.000000</td>\n",
       "    </tr>\n",
       "  </tbody>\n",
       "</table>\n",
       "<p>8 rows × 26 columns</p>\n",
       "</div>"
      ],
      "text/plain": [
       "           Partner       Tenure  Techsupport        Churn          Age  \\\n",
       "count  7043.000000  7043.000000  7043.000000  7043.000000  7043.000000   \n",
       "mean      0.483033    32.371149     0.290217     0.265370    46.509726   \n",
       "std       0.499748    24.559481     0.453895     0.441561    16.750352   \n",
       "min       0.000000     0.000000     0.000000     0.000000    19.000000   \n",
       "25%       0.000000     9.000000     0.000000     0.000000    32.000000   \n",
       "50%       0.000000    29.000000     0.000000     0.000000    46.000000   \n",
       "75%       1.000000    55.000000     1.000000     1.000000    60.000000   \n",
       "max       1.000000    72.000000     1.000000     1.000000    80.000000   \n",
       "\n",
       "           Under30      Married  Numberofdependents  Referredafriend  \\\n",
       "count  7043.000000  7043.000000         7043.000000      7043.000000   \n",
       "mean      0.198921     0.483033            0.468692         0.457476   \n",
       "std       0.399217     0.499748            0.962802         0.498224   \n",
       "min       0.000000     0.000000            0.000000         0.000000   \n",
       "25%       0.000000     0.000000            0.000000         0.000000   \n",
       "50%       0.000000     0.000000            0.000000         0.000000   \n",
       "75%       0.000000     1.000000            0.000000         1.000000   \n",
       "max       1.000000     1.000000            9.000000         1.000000   \n",
       "\n",
       "       Numberofreferrals  ...  Monthlycharge  Satisfactionscore  \\\n",
       "count        7043.000000  ...    7043.000000        7043.000000   \n",
       "mean            1.951867  ...      64.761692           3.244924   \n",
       "std             3.001199  ...      30.090047           1.201657   \n",
       "min             0.000000  ...      18.250000           1.000000   \n",
       "25%             0.000000  ...      35.500000           3.000000   \n",
       "50%             0.000000  ...      70.350000           3.000000   \n",
       "75%             3.000000  ...      89.850000           4.000000   \n",
       "max            11.000000  ...     118.750000           5.000000   \n",
       "\n",
       "       Offer_Offer A  Offer_Offer B  Offer_Offer C  Offer_Offer D  \\\n",
       "count    7043.000000    7043.000000    7043.000000    7043.000000   \n",
       "mean        0.073832       0.116996       0.058924       0.085475   \n",
       "std         0.261516       0.321438       0.235499       0.279607   \n",
       "min         0.000000       0.000000       0.000000       0.000000   \n",
       "25%         0.000000       0.000000       0.000000       0.000000   \n",
       "50%         0.000000       0.000000       0.000000       0.000000   \n",
       "75%         0.000000       0.000000       0.000000       0.000000   \n",
       "max         1.000000       1.000000       1.000000       1.000000   \n",
       "\n",
       "       Offer_Offer E  Internettype_DSL  Internettype_Fiber Optic  \\\n",
       "count    7043.000000       7043.000000               7043.000000   \n",
       "mean        0.114298          0.234559                  0.430924   \n",
       "std         0.318195          0.423753                  0.495241   \n",
       "min         0.000000          0.000000                  0.000000   \n",
       "25%         0.000000          0.000000                  0.000000   \n",
       "50%         0.000000          0.000000                  0.000000   \n",
       "75%         0.000000          0.000000                  1.000000   \n",
       "max         1.000000          1.000000                  1.000000   \n",
       "\n",
       "       Internettype_None  \n",
       "count        7043.000000  \n",
       "mean            0.216669  \n",
       "std             0.412004  \n",
       "min             0.000000  \n",
       "25%             0.000000  \n",
       "50%             0.000000  \n",
       "75%             0.000000  \n",
       "max             1.000000  \n",
       "\n",
       "[8 rows x 26 columns]"
      ]
     },
     "execution_count": 124,
     "metadata": {},
     "output_type": "execute_result"
    }
   ],
   "source": [
    "df_merged.describe()"
   ]
  },
  {
   "cell_type": "code",
   "execution_count": 125,
   "id": "7dc0d0ef",
   "metadata": {},
   "outputs": [
    {
     "name": "stdout",
     "output_type": "stream",
     "text": [
      "1 [{'Column': 'Numberofdependents', 'Outlier Count': 1627, 'Outliers percentage': 23.1}]\n"
     ]
    }
   ],
   "source": [
    "results = []\n",
    "cols=[]\n",
    "for col in df_merged:\n",
    "    desc = df_merged[col].describe()\n",
    "    Q1 = desc['25%']    \n",
    "    Q3 = desc['75%']\n",
    "    IQR = Q3 - Q1\n",
    "    lower_bound = Q1 - (3 * IQR)\n",
    "    upper_bound = Q3 + (3 * IQR)\n",
    "    min_val = desc['min']\n",
    "    max_val = desc['max']\n",
    "    if min_val == 0 and max_val == 1 :\n",
    "            continue\n",
    "    has_outliers = df_merged[(df_merged[col] < lower_bound) | (df_merged[col] > upper_bound)]\n",
    "    outlier_count = has_outliers.shape[0]\n",
    "    \n",
    "    \n",
    "    if outlier_count:\n",
    "        cols.append(col)\n",
    "        results.append( {\n",
    "            'Column': col,\n",
    "            'Outlier Count': outlier_count,\n",
    "            'Outliers percentage' : round(outlier_count /  df_merged[col].shape[0] * 100 , 2) \n",
    "        })\n",
    "\n",
    "\n",
    "print(len(results) , results )\n"
   ]
  },
  {
   "cell_type": "code",
   "execution_count": 126,
   "id": "eb3b4a02",
   "metadata": {},
   "outputs": [
    {
     "data": {
      "image/png": "[encoded data removed]",
      "text/plain": [
       "<Figure size 1080x720 with 1 Axes>"
      ]
     },
     "metadata": {
      "needs_background": "light"
     },
     "output_type": "display_data"
    }
   ],
   "source": [
    "import matplotlib.pyplot as plt\n",
    "\n",
    "plt.figure(figsize=(15, 10))\n",
    "i = 1\n",
    "for col in df_merged[cols]:\n",
    "    plt.subplot(2, 2, i)\n",
    "    ax = df_merged[col].hist(bins=10)\n",
    "    ax.set_xlabel(col)\n",
    "    ax.set_ylabel(\"Frequency\")\n",
    "    i += 1\n",
    "    if i > 4:  \n",
    "        break\n",
    "\n",
    "plt.tight_layout()\n",
    "plt.show()\n"
   ]
  },
  {
   "cell_type": "code",
   "execution_count": 127,
   "id": "bb026496",
   "metadata": {},
   "outputs": [
    {
     "data": {
      "application/vnd.microsoft.datawrangler.viewer.v0+json": {
       "columns": [
        {
         "name": "index",
         "rawType": "object",
         "type": "string"
        },
        {
         "name": "Numberofdependents",
         "rawType": "float64",
         "type": "float"
        }
       ],
       "ref": "e85c8011-1dda-44de-9832-c8f2c4d00a40",
       "rows": [
        [
         "count",
         "7043.0"
        ],
        [
         "mean",
         "0.4686923186142269"
        ],
        [
         "std",
         "0.9628019509440209"
        ],
        [
         "min",
         "0.0"
        ],
        [
         "25%",
         "0.0"
        ],
        [
         "50%",
         "0.0"
        ],
        [
         "75%",
         "0.0"
        ],
        [
         "max",
         "9.0"
        ]
       ],
       "shape": {
        "columns": 1,
        "rows": 8
       }
      },
      "text/html": [
       "<div>\n",
       "<style scoped>\n",
       "    .dataframe tbody tr th:only-of-type {\n",
       "        vertical-align: middle;\n",
       "    }\n",
       "\n",
       "    .dataframe tbody tr th {\n",
       "        vertical-align: top;\n",
       "    }\n",
       "\n",
       "    .dataframe thead th {\n",
       "        text-align: right;\n",
       "    }\n",
       "</style>\n",
       "<table border=\"1\" class=\"dataframe\">\n",
       "  <thead>\n",
       "    <tr style=\"text-align: right;\">\n",
       "      <th></th>\n",
       "      <th>Numberofdependents</th>\n",
       "    </tr>\n",
       "  </thead>\n",
       "  <tbody>\n",
       "    <tr>\n",
       "      <th>count</th>\n",
       "      <td>7043.000000</td>\n",
       "    </tr>\n",
       "    <tr>\n",
       "      <th>mean</th>\n",
       "      <td>0.468692</td>\n",
       "    </tr>\n",
       "    <tr>\n",
       "      <th>std</th>\n",
       "      <td>0.962802</td>\n",
       "    </tr>\n",
       "    <tr>\n",
       "      <th>min</th>\n",
       "      <td>0.000000</td>\n",
       "    </tr>\n",
       "    <tr>\n",
       "      <th>25%</th>\n",
       "      <td>0.000000</td>\n",
       "    </tr>\n",
       "    <tr>\n",
       "      <th>50%</th>\n",
       "      <td>0.000000</td>\n",
       "    </tr>\n",
       "    <tr>\n",
       "      <th>75%</th>\n",
       "      <td>0.000000</td>\n",
       "    </tr>\n",
       "    <tr>\n",
       "      <th>max</th>\n",
       "      <td>9.000000</td>\n",
       "    </tr>\n",
       "  </tbody>\n",
       "</table>\n",
       "</div>"
      ],
      "text/plain": [
       "       Numberofdependents\n",
       "count         7043.000000\n",
       "mean             0.468692\n",
       "std              0.962802\n",
       "min              0.000000\n",
       "25%              0.000000\n",
       "50%              0.000000\n",
       "75%              0.000000\n",
       "max              9.000000"
      ]
     },
     "execution_count": 127,
     "metadata": {},
     "output_type": "execute_result"
    }
   ],
   "source": [
    "df_merged[cols].describe()"
   ]
  },
  {
   "cell_type": "code",
   "execution_count": 128,
   "id": "0f5c7d14",
   "metadata": {},
   "outputs": [
    {
     "data": {
      "application/vnd.microsoft.datawrangler.viewer.v0+json": {
       "columns": [
        {
         "name": "index",
         "rawType": "int64",
         "type": "integer"
        },
        {
         "name": "Numberofdependents",
         "rawType": "int64",
         "type": "integer"
        }
       ],
       "ref": "950568d6-e81b-4844-8889-084a5b32272b",
       "rows": [
        [
         "0",
         "5416"
        ],
        [
         "1",
         "553"
        ],
        [
         "2",
         "531"
        ],
        [
         "3",
         "517"
        ],
        [
         "5",
         "10"
        ],
        [
         "4",
         "9"
        ],
        [
         "6",
         "3"
        ],
        [
         "7",
         "2"
        ],
        [
         "9",
         "1"
        ],
        [
         "8",
         "1"
        ]
       ],
       "shape": {
        "columns": 1,
        "rows": 10
       }
      },
      "text/plain": [
       "0    5416\n",
       "1     553\n",
       "2     531\n",
       "3     517\n",
       "5      10\n",
       "4       9\n",
       "6       3\n",
       "7       2\n",
       "9       1\n",
       "8       1\n",
       "Name: Numberofdependents, dtype: int64"
      ]
     },
     "execution_count": 128,
     "metadata": {},
     "output_type": "execute_result"
    }
   ],
   "source": [
    "df_merged['Numberofdependents'].value_counts()"
   ]
  },
  {
   "cell_type": "code",
   "execution_count": 129,
   "id": "e018b6a7",
   "metadata": {},
   "outputs": [],
   "source": [
    "df_merged['Numberofdependents'] = (df_merged['Numberofdependents'] > 0).astype(int)\n"
   ]
  },
  {
   "cell_type": "code",
   "execution_count": 130,
   "id": "2d5f1dee",
   "metadata": {},
   "outputs": [
    {
     "data": {
      "application/vnd.microsoft.datawrangler.viewer.v0+json": {
       "columns": [
        {
         "name": "index",
         "rawType": "int64",
         "type": "integer"
        },
        {
         "name": "Numberofdependents",
         "rawType": "int64",
         "type": "integer"
        }
       ],
       "ref": "2d90f07b-69e4-4f98-8db3-33a2844455dc",
       "rows": [
        [
         "0",
         "5416"
        ],
        [
         "1",
         "1627"
        ]
       ],
       "shape": {
        "columns": 1,
        "rows": 2
       }
      },
      "text/plain": [
       "0    5416\n",
       "1    1627\n",
       "Name: Numberofdependents, dtype: int64"
      ]
     },
     "execution_count": 130,
     "metadata": {},
     "output_type": "execute_result"
    }
   ],
   "source": [
    "df_merged['Numberofdependents'].value_counts()"
   ]
  },
  {
   "cell_type": "code",
   "execution_count": 131,
   "id": "d6209c82",
   "metadata": {},
   "outputs": [
    {
     "data": {
      "application/vnd.microsoft.datawrangler.viewer.v0+json": {
       "columns": [
        {
         "name": "index",
         "rawType": "object",
         "type": "string"
        },
        {
         "name": "Partner",
         "rawType": "float64",
         "type": "float"
        },
        {
         "name": "Tenure",
         "rawType": "float64",
         "type": "float"
        },
        {
         "name": "Techsupport",
         "rawType": "float64",
         "type": "float"
        },
        {
         "name": "Churn",
         "rawType": "float64",
         "type": "float"
        },
        {
         "name": "Age",
         "rawType": "float64",
         "type": "float"
        },
        {
         "name": "Under30",
         "rawType": "float64",
         "type": "float"
        },
        {
         "name": "Married",
         "rawType": "float64",
         "type": "float"
        },
        {
         "name": "Numberofdependents",
         "rawType": "float64",
         "type": "float"
        },
        {
         "name": "Referredafriend",
         "rawType": "float64",
         "type": "float"
        },
        {
         "name": "Numberofreferrals",
         "rawType": "float64",
         "type": "float"
        },
        {
         "name": "Avgmonthlylongdistancecharges",
         "rawType": "float64",
         "type": "float"
        },
        {
         "name": "Avgmonthlygbdownload",
         "rawType": "float64",
         "type": "float"
        },
        {
         "name": "Deviceprotectionplan",
         "rawType": "float64",
         "type": "float"
        },
        {
         "name": "Premiumtechsupport",
         "rawType": "float64",
         "type": "float"
        },
        {
         "name": "Streamingmusic",
         "rawType": "float64",
         "type": "float"
        },
        {
         "name": "Unlimiteddata",
         "rawType": "float64",
         "type": "float"
        },
        {
         "name": "Monthlycharge",
         "rawType": "float64",
         "type": "float"
        },
        {
         "name": "Satisfactionscore",
         "rawType": "float64",
         "type": "float"
        },
        {
         "name": "Offer_Offer A",
         "rawType": "float64",
         "type": "float"
        },
        {
         "name": "Offer_Offer B",
         "rawType": "float64",
         "type": "float"
        },
        {
         "name": "Offer_Offer C",
         "rawType": "float64",
         "type": "float"
        },
        {
         "name": "Offer_Offer D",
         "rawType": "float64",
         "type": "float"
        },
        {
         "name": "Offer_Offer E",
         "rawType": "float64",
         "type": "float"
        },
        {
         "name": "Internettype_DSL",
         "rawType": "float64",
         "type": "float"
        },
        {
         "name": "Internettype_Fiber Optic",
         "rawType": "float64",
         "type": "float"
        },
        {
         "name": "Internettype_None",
         "rawType": "float64",
         "type": "float"
        }
       ],
       "ref": "6ca52db6-b22d-4727-8c26-cd3601d2f672",
       "rows": [
        [
         "count",
         "7043.0",
         "7043.0",
         "7043.0",
         "7043.0",
         "7043.0",
         "7043.0",
         "7043.0",
         "7043.0",
         "7043.0",
         "7043.0",
         "7043.0",
         "7043.0",
         "7043.0",
         "7043.0",
         "7043.0",
         "7043.0",
         "7043.0",
         "7043.0",
         "7043.0",
         "7043.0",
         "7043.0",
         "7043.0",
         "7043.0",
         "7043.0",
         "7043.0",
         "7043.0"
        ],
        [
         "mean",
         "0.4830327985233565",
         "32.37114865824223",
         "0.2902172369728809",
         "0.2653698707936959",
         "46.50972596904728",
         "0.19892091438307538",
         "0.4830327985233565",
         "0.2310095129916229",
         "0.4574755075961948",
         "1.9518671020871787",
         "22.958953570921484",
         "20.515405367031093",
         "0.3438875479199205",
         "0.2902172369728809",
         "0.3532585545932131",
         "0.6737185858299021",
         "64.76169246059918",
         "3.2449240380519666",
         "0.0738321737895783",
         "0.11699559846656254",
         "0.0589237540820673",
         "0.08547493965639642",
         "0.11429788442425103",
         "0.23455913673150647",
         "0.4309243220218657",
         "0.21666903308249325"
        ],
        [
         "std",
         "0.49974751071998735",
         "24.55948102309446",
         "0.4538947500677709",
         "0.441561305121947",
         "16.750351655102634",
         "0.39921674929199447",
         "0.49974751071998735",
         "0.4215084154223818",
         "0.49822375699216886",
         "3.0011992998901005",
         "15.448113345456905",
         "20.418940392245453",
         "0.4750378329808361",
         "0.4538947500677709",
         "0.47801609980683335",
         "0.46888492059794995",
         "30.090047097678493",
         "1.2016571225409585",
         "0.26151614549081714",
         "0.3214378612070686",
         "0.2354986618183926",
         "0.27960700052234616",
         "0.3181953075841935",
         "0.4237530458511838",
         "0.49524072370890065",
         "0.4120044475478647"
        ],
        [
         "min",
         "0.0",
         "0.0",
         "0.0",
         "0.0",
         "19.0",
         "0.0",
         "0.0",
         "0.0",
         "0.0",
         "0.0",
         "0.0",
         "0.0",
         "0.0",
         "0.0",
         "0.0",
         "0.0",
         "18.25",
         "1.0",
         "0.0",
         "0.0",
         "0.0",
         "0.0",
         "0.0",
         "0.0",
         "0.0",
         "0.0"
        ],
        [
         "25%",
         "0.0",
         "9.0",
         "0.0",
         "0.0",
         "32.0",
         "0.0",
         "0.0",
         "0.0",
         "0.0",
         "0.0",
         "9.21",
         "3.0",
         "0.0",
         "0.0",
         "0.0",
         "0.0",
         "35.5",
         "3.0",
         "0.0",
         "0.0",
         "0.0",
         "0.0",
         "0.0",
         "0.0",
         "0.0",
         "0.0"
        ],
        [
         "50%",
         "0.0",
         "29.0",
         "0.0",
         "0.0",
         "46.0",
         "0.0",
         "0.0",
         "0.0",
         "0.0",
         "0.0",
         "22.89",
         "17.0",
         "0.0",
         "0.0",
         "0.0",
         "1.0",
         "70.35",
         "3.0",
         "0.0",
         "0.0",
         "0.0",
         "0.0",
         "0.0",
         "0.0",
         "0.0",
         "0.0"
        ],
        [
         "75%",
         "1.0",
         "55.0",
         "1.0",
         "1.0",
         "60.0",
         "0.0",
         "1.0",
         "0.0",
         "1.0",
         "3.0",
         "36.394999999999996",
         "27.0",
         "1.0",
         "1.0",
         "1.0",
         "1.0",
         "89.85",
         "4.0",
         "0.0",
         "0.0",
         "0.0",
         "0.0",
         "0.0",
         "0.0",
         "1.0",
         "0.0"
        ],
        [
         "max",
         "1.0",
         "72.0",
         "1.0",
         "1.0",
         "80.0",
         "1.0",
         "1.0",
         "1.0",
         "1.0",
         "11.0",
         "49.99",
         "85.0",
         "1.0",
         "1.0",
         "1.0",
         "1.0",
         "118.75",
         "5.0",
         "1.0",
         "1.0",
         "1.0",
         "1.0",
         "1.0",
         "1.0",
         "1.0",
         "1.0"
        ]
       ],
       "shape": {
        "columns": 26,
        "rows": 8
       }
      },
      "text/html": [
       "<div>\n",
       "<style scoped>\n",
       "    .dataframe tbody tr th:only-of-type {\n",
       "        vertical-align: middle;\n",
       "    }\n",
       "\n",
       "    .dataframe tbody tr th {\n",
       "        vertical-align: top;\n",
       "    }\n",
       "\n",
       "    .dataframe thead th {\n",
       "        text-align: right;\n",
       "    }\n",
       "</style>\n",
       "<table border=\"1\" class=\"dataframe\">\n",
       "  <thead>\n",
       "    <tr style=\"text-align: right;\">\n",
       "      <th></th>\n",
       "      <th>Partner</th>\n",
       "      <th>Tenure</th>\n",
       "      <th>Techsupport</th>\n",
       "      <th>Churn</th>\n",
       "      <th>Age</th>\n",
       "      <th>Under30</th>\n",
       "      <th>Married</th>\n",
       "      <th>Numberofdependents</th>\n",
       "      <th>Referredafriend</th>\n",
       "      <th>Numberofreferrals</th>\n",
       "      <th>...</th>\n",
       "      <th>Monthlycharge</th>\n",
       "      <th>Satisfactionscore</th>\n",
       "      <th>Offer_Offer A</th>\n",
       "      <th>Offer_Offer B</th>\n",
       "      <th>Offer_Offer C</th>\n",
       "      <th>Offer_Offer D</th>\n",
       "      <th>Offer_Offer E</th>\n",
       "      <th>Internettype_DSL</th>\n",
       "      <th>Internettype_Fiber Optic</th>\n",
       "      <th>Internettype_None</th>\n",
       "    </tr>\n",
       "  </thead>\n",
       "  <tbody>\n",
       "    <tr>\n",
       "      <th>count</th>\n",
       "      <td>7043.000000</td>\n",
       "      <td>7043.000000</td>\n",
       "      <td>7043.000000</td>\n",
       "      <td>7043.000000</td>\n",
       "      <td>7043.000000</td>\n",
       "      <td>7043.000000</td>\n",
       "      <td>7043.000000</td>\n",
       "      <td>7043.000000</td>\n",
       "      <td>7043.000000</td>\n",
       "      <td>7043.000000</td>\n",
       "      <td>...</td>\n",
       "      <td>7043.000000</td>\n",
       "      <td>7043.000000</td>\n",
       "      <td>7043.000000</td>\n",
       "      <td>7043.000000</td>\n",
       "      <td>7043.000000</td>\n",
       "      <td>7043.000000</td>\n",
       "      <td>7043.000000</td>\n",
       "      <td>7043.000000</td>\n",
       "      <td>7043.000000</td>\n",
       "      <td>7043.000000</td>\n",
       "    </tr>\n",
       "    <tr>\n",
       "      <th>mean</th>\n",
       "      <td>0.483033</td>\n",
       "      <td>32.371149</td>\n",
       "      <td>0.290217</td>\n",
       "      <td>0.265370</td>\n",
       "      <td>46.509726</td>\n",
       "      <td>0.198921</td>\n",
       "      <td>0.483033</td>\n",
       "      <td>0.231010</td>\n",
       "      <td>0.457476</td>\n",
       "      <td>1.951867</td>\n",
       "      <td>...</td>\n",
       "      <td>64.761692</td>\n",
       "      <td>3.244924</td>\n",
       "      <td>0.073832</td>\n",
       "      <td>0.116996</td>\n",
       "      <td>0.058924</td>\n",
       "      <td>0.085475</td>\n",
       "      <td>0.114298</td>\n",
       "      <td>0.234559</td>\n",
       "      <td>0.430924</td>\n",
       "      <td>0.216669</td>\n",
       "    </tr>\n",
       "    <tr>\n",
       "      <th>std</th>\n",
       "      <td>0.499748</td>\n",
       "      <td>24.559481</td>\n",
       "      <td>0.453895</td>\n",
       "      <td>0.441561</td>\n",
       "      <td>16.750352</td>\n",
       "      <td>0.399217</td>\n",
       "      <td>0.499748</td>\n",
       "      <td>0.421508</td>\n",
       "      <td>0.498224</td>\n",
       "      <td>3.001199</td>\n",
       "      <td>...</td>\n",
       "      <td>30.090047</td>\n",
       "      <td>1.201657</td>\n",
       "      <td>0.261516</td>\n",
       "      <td>0.321438</td>\n",
       "      <td>0.235499</td>\n",
       "      <td>0.279607</td>\n",
       "      <td>0.318195</td>\n",
       "      <td>0.423753</td>\n",
       "      <td>0.495241</td>\n",
       "      <td>0.412004</td>\n",
       "    </tr>\n",
       "    <tr>\n",
       "      <th>min</th>\n",
       "      <td>0.000000</td>\n",
       "      <td>0.000000</td>\n",
       "      <td>0.000000</td>\n",
       "      <td>0.000000</td>\n",
       "      <td>19.000000</td>\n",
       "      <td>0.000000</td>\n",
       "      <td>0.000000</td>\n",
       "      <td>0.000000</td>\n",
       "      <td>0.000000</td>\n",
       "      <td>0.000000</td>\n",
       "      <td>...</td>\n",
       "      <td>18.250000</td>\n",
       "      <td>1.000000</td>\n",
       "      <td>0.000000</td>\n",
       "      <td>0.000000</td>\n",
       "      <td>0.000000</td>\n",
       "      <td>0.000000</td>\n",
       "      <td>0.000000</td>\n",
       "      <td>0.000000</td>\n",
       "      <td>0.000000</td>\n",
       "      <td>0.000000</td>\n",
       "    </tr>\n",
       "    <tr>\n",
       "      <th>25%</th>\n",
       "      <td>0.000000</td>\n",
       "      <td>9.000000</td>\n",
       "      <td>0.000000</td>\n",
       "      <td>0.000000</td>\n",
       "      <td>32.000000</td>\n",
       "      <td>0.000000</td>\n",
       "      <td>0.000000</td>\n",
       "      <td>0.000000</td>\n",
       "      <td>0.000000</td>\n",
       "      <td>0.000000</td>\n",
       "      <td>...</td>\n",
       "      <td>35.500000</td>\n",
       "      <td>3.000000</td>\n",
       "      <td>0.000000</td>\n",
       "      <td>0.000000</td>\n",
       "      <td>0.000000</td>\n",
       "      <td>0.000000</td>\n",
       "      <td>0.000000</td>\n",
       "      <td>0.000000</td>\n",
       "      <td>0.000000</td>\n",
       "      <td>0.000000</td>\n",
       "    </tr>\n",
       "    <tr>\n",
       "      <th>50%</th>\n",
       "      <td>0.000000</td>\n",
       "      <td>29.000000</td>\n",
       "      <td>0.000000</td>\n",
       "      <td>0.000000</td>\n",
       "      <td>46.000000</td>\n",
       "      <td>0.000000</td>\n",
       "      <td>0.000000</td>\n",
       "      <td>0.000000</td>\n",
       "      <td>0.000000</td>\n",
       "      <td>0.000000</td>\n",
       "      <td>...</td>\n",
       "      <td>70.350000</td>\n",
       "      <td>3.000000</td>\n",
       "      <td>0.000000</td>\n",
       "      <td>0.000000</td>\n",
       "      <td>0.000000</td>\n",
       "      <td>0.000000</td>\n",
       "      <td>0.000000</td>\n",
       "      <td>0.000000</td>\n",
       "      <td>0.000000</td>\n",
       "      <td>0.000000</td>\n",
       "    </tr>\n",
       "    <tr>\n",
       "      <th>75%</th>\n",
       "      <td>1.000000</td>\n",
       "      <td>55.000000</td>\n",
       "      <td>1.000000</td>\n",
       "      <td>1.000000</td>\n",
       "      <td>60.000000</td>\n",
       "      <td>0.000000</td>\n",
       "      <td>1.000000</td>\n",
       "      <td>0.000000</td>\n",
       "      <td>1.000000</td>\n",
       "      <td>3.000000</td>\n",
       "      <td>...</td>\n",
       "      <td>89.850000</td>\n",
       "      <td>4.000000</td>\n",
       "      <td>0.000000</td>\n",
       "      <td>0.000000</td>\n",
       "      <td>0.000000</td>\n",
       "      <td>0.000000</td>\n",
       "      <td>0.000000</td>\n",
       "      <td>0.000000</td>\n",
       "      <td>1.000000</td>\n",
       "      <td>0.000000</td>\n",
       "    </tr>\n",
       "    <tr>\n",
       "      <th>max</th>\n",
       "      <td>1.000000</td>\n",
       "      <td>72.000000</td>\n",
       "      <td>1.000000</td>\n",
       "      <td>1.000000</td>\n",
       "      <td>80.000000</td>\n",
       "      <td>1.000000</td>\n",
       "      <td>1.000000</td>\n",
       "      <td>1.000000</td>\n",
       "      <td>1.000000</td>\n",
       "      <td>11.000000</td>\n",
       "      <td>...</td>\n",
       "      <td>118.750000</td>\n",
       "      <td>5.000000</td>\n",
       "      <td>1.000000</td>\n",
       "      <td>1.000000</td>\n",
       "      <td>1.000000</td>\n",
       "      <td>1.000000</td>\n",
       "      <td>1.000000</td>\n",
       "      <td>1.000000</td>\n",
       "      <td>1.000000</td>\n",
       "      <td>1.000000</td>\n",
       "    </tr>\n",
       "  </tbody>\n",
       "</table>\n",
       "<p>8 rows × 26 columns</p>\n",
       "</div>"
      ],
      "text/plain": [
       "           Partner       Tenure  Techsupport        Churn          Age  \\\n",
       "count  7043.000000  7043.000000  7043.000000  7043.000000  7043.000000   \n",
       "mean      0.483033    32.371149     0.290217     0.265370    46.509726   \n",
       "std       0.499748    24.559481     0.453895     0.441561    16.750352   \n",
       "min       0.000000     0.000000     0.000000     0.000000    19.000000   \n",
       "25%       0.000000     9.000000     0.000000     0.000000    32.000000   \n",
       "50%       0.000000    29.000000     0.000000     0.000000    46.000000   \n",
       "75%       1.000000    55.000000     1.000000     1.000000    60.000000   \n",
       "max       1.000000    72.000000     1.000000     1.000000    80.000000   \n",
       "\n",
       "           Under30      Married  Numberofdependents  Referredafriend  \\\n",
       "count  7043.000000  7043.000000         7043.000000      7043.000000   \n",
       "mean      0.198921     0.483033            0.231010         0.457476   \n",
       "std       0.399217     0.499748            0.421508         0.498224   \n",
       "min       0.000000     0.000000            0.000000         0.000000   \n",
       "25%       0.000000     0.000000            0.000000         0.000000   \n",
       "50%       0.000000     0.000000            0.000000         0.000000   \n",
       "75%       0.000000     1.000000            0.000000         1.000000   \n",
       "max       1.000000     1.000000            1.000000         1.000000   \n",
       "\n",
       "       Numberofreferrals  ...  Monthlycharge  Satisfactionscore  \\\n",
       "count        7043.000000  ...    7043.000000        7043.000000   \n",
       "mean            1.951867  ...      64.761692           3.244924   \n",
       "std             3.001199  ...      30.090047           1.201657   \n",
       "min             0.000000  ...      18.250000           1.000000   \n",
       "25%             0.000000  ...      35.500000           3.000000   \n",
       "50%             0.000000  ...      70.350000           3.000000   \n",
       "75%             3.000000  ...      89.850000           4.000000   \n",
       "max            11.000000  ...     118.750000           5.000000   \n",
       "\n",
       "       Offer_Offer A  Offer_Offer B  Offer_Offer C  Offer_Offer D  \\\n",
       "count    7043.000000    7043.000000    7043.000000    7043.000000   \n",
       "mean        0.073832       0.116996       0.058924       0.085475   \n",
       "std         0.261516       0.321438       0.235499       0.279607   \n",
       "min         0.000000       0.000000       0.000000       0.000000   \n",
       "25%         0.000000       0.000000       0.000000       0.000000   \n",
       "50%         0.000000       0.000000       0.000000       0.000000   \n",
       "75%         0.000000       0.000000       0.000000       0.000000   \n",
       "max         1.000000       1.000000       1.000000       1.000000   \n",
       "\n",
       "       Offer_Offer E  Internettype_DSL  Internettype_Fiber Optic  \\\n",
       "count    7043.000000       7043.000000               7043.000000   \n",
       "mean        0.114298          0.234559                  0.430924   \n",
       "std         0.318195          0.423753                  0.495241   \n",
       "min         0.000000          0.000000                  0.000000   \n",
       "25%         0.000000          0.000000                  0.000000   \n",
       "50%         0.000000          0.000000                  0.000000   \n",
       "75%         0.000000          0.000000                  1.000000   \n",
       "max         1.000000          1.000000                  1.000000   \n",
       "\n",
       "       Internettype_None  \n",
       "count        7043.000000  \n",
       "mean            0.216669  \n",
       "std             0.412004  \n",
       "min             0.000000  \n",
       "25%             0.000000  \n",
       "50%             0.000000  \n",
       "75%             0.000000  \n",
       "max             1.000000  \n",
       "\n",
       "[8 rows x 26 columns]"
      ]
     },
     "execution_count": 131,
     "metadata": {},
     "output_type": "execute_result"
    }
   ],
   "source": [
    "df_merged.describe()"
   ]
  },
  {
   "cell_type": "code",
   "execution_count": 132,
   "id": "998696ab",
   "metadata": {},
   "outputs": [
    {
     "data": {
      "application/vnd.microsoft.datawrangler.viewer.v0+json": {
       "columns": [
        {
         "name": "index",
         "rawType": "int64",
         "type": "integer"
        },
        {
         "name": "Churn",
         "rawType": "int64",
         "type": "integer"
        }
       ],
       "ref": "a17177c9-32ef-4541-8eaa-9c20c0b6347b",
       "rows": [
        [
         "0",
         "5174"
        ],
        [
         "1",
         "1869"
        ]
       ],
       "shape": {
        "columns": 1,
        "rows": 2
       }
      },
      "text/plain": [
       "0    5174\n",
       "1    1869\n",
       "Name: Churn, dtype: int64"
      ]
     },
     "execution_count": 132,
     "metadata": {},
     "output_type": "execute_result"
    }
   ],
   "source": [
    "df_merged['Churn'].value_counts()"
   ]
  },
  {
   "cell_type": "markdown",
   "id": "d790a980",
   "metadata": {},
   "source": [
    "# Split to Train/Test\n"
   ]
  },
  {
   "cell_type": "code",
   "execution_count": 133,
   "id": "b414c29b",
   "metadata": {},
   "outputs": [
    {
     "name": "stdout",
     "output_type": "stream",
     "text": [
      "x_train shape: (5634, 25) , y_train shape : (5634,)\n",
      "x_test shape: (1409, 25) , x_train shape : (1409,)\n"
     ]
    }
   ],
   "source": [
    "from sklearn.model_selection import train_test_split\n",
    "\n",
    "\n",
    "x = df_merged.drop('Churn', axis=1)   \n",
    "y = df_merged['Churn']                \n",
    "\n",
    "x_train , x_test, y_train, y_test = train_test_split(x ,y , test_size=0.2, random_state=42, stratify=y)\n",
    "\n",
    "print(\"x_train shape:\", x_train.shape ,\", y_train shape :\" , y_train.shape )\n",
    "print(\"x_test shape:\", x_test.shape , \", x_train shape :\" , y_test.shape)        \n"
   ]
  },
  {
   "cell_type": "markdown",
   "id": "fd6bfe0a",
   "metadata": {},
   "source": [
    "# Scaling & sampling & choosing Best model "
   ]
  },
  {
   "cell_type": "code",
   "execution_count": 134,
   "id": "f749920c",
   "metadata": {},
   "outputs": [
    {
     "data": {
      "image/png": "[encoded data removed]",
      "text/plain": [
       "<Figure size 864x432 with 2 Axes>"
      ]
     },
     "metadata": {
      "needs_background": "light"
     },
     "output_type": "display_data"
    }
   ],
   "source": [
    "import matplotlib.pyplot as plt\n",
    "import seaborn as sns\n",
    "\n",
    "\n",
    "models = ['Logistic Regression', 'Random Forest', 'Gradient Boosting', 'HistGradient Boosting']\n",
    "accuracies = [0.9491, 0.9524, 0.9543, 0.9505]\n",
    "times = [2.9, 7.7, 15.2, 9.9]\n",
    "\n",
    "fig, ax1 = plt.subplots(figsize=(12, 6))\n",
    "\n",
    "color = 'tab:blue'\n",
    "ax1.set_xlabel('Model')\n",
    "ax1.set_ylabel('Accuracy', color=color)\n",
    "sns.barplot(x=models, y=accuracies, ax=ax1, palette='Blues')\n",
    "ax1.tick_params(axis='y', labelcolor=color)\n",
    "ax1.set_ylim(0.945, 0.957)\n",
    "\n",
    "ax2 = ax1.twinx()\n",
    "color = 'tab:red'\n",
    "ax2.set_ylabel('Training Time (seconds)', color=color)\n",
    "sns.lineplot(x=models, y=times, ax=ax2, color=color, marker='o', linewidth=2)\n",
    "ax2.tick_params(axis='y', labelcolor=color)\n",
    "\n",
    "plt.title('🔍 Model Accuracy vs Training Time')\n",
    "plt.xticks(rotation=10)\n",
    "plt.tight_layout()\n",
    "plt.show()\n"
   ]
  },
  {
   "cell_type": "code",
   "execution_count": 135,
   "id": "62badae3",
   "metadata": {},
   "outputs": [
    {
     "name": "stdout",
     "output_type": "stream",
     "text": [
      "Cross-validation scores: [0.9450354609929078, 0.9574468085106383, 0.9521276595744681, 0.9556737588652482, 0.9591474245115453, 0.9431616341030196, 0.9609236234458259, 0.9644760213143873, 0.9449378330373002, 0.9484902309058615]\n",
      "Mean accuracy: 0.9531420455261201\n"
     ]
    }
   ],
   "source": [
    "from sklearn.preprocessing import MinMaxScaler\n",
    "from sklearn.model_selection import StratifiedKFold, cross_val_score\n",
    "from sklearn.ensemble import RandomForestClassifier\n",
    "from imblearn.over_sampling import SMOTE\n",
    "from imblearn.pipeline import Pipeline \n",
    "\n",
    "\n",
    "pipeline = Pipeline(steps=[\n",
    "    ('smote', SMOTE(random_state=42)),         \n",
    "    ('scaler', MinMaxScaler()),               \n",
    "    ('model', RandomForestClassifier())\n",
    "])\n",
    "\n",
    "\n",
    "cv = StratifiedKFold(n_splits=10, shuffle=True, random_state=42)\n",
    "\n",
    "scores = cross_val_score(pipeline, x_train, y_train, cv=cv, scoring='accuracy')\n",
    "\n",
    "print(\"Cross-validation scores:\", scores.tolist())\n",
    "print(\"Mean accuracy:\", scores.mean())\n"
   ]
  },
  {
   "cell_type": "code",
   "execution_count": 136,
   "id": "d64b473b",
   "metadata": {},
   "outputs": [
    {
     "data": {
      "text/plain": [
       "Pipeline(steps=[('smote', SMOTE(random_state=42)), ('scaler', MinMaxScaler()),\n",
       "                ('model', RandomForestClassifier())])"
      ]
     },
     "execution_count": 136,
     "metadata": {},
     "output_type": "execute_result"
    }
   ],
   "source": [
    "pipeline.fit(x_train, y_train)"
   ]
  },
  {
   "cell_type": "code",
   "execution_count": 137,
   "id": "33e567ae",
   "metadata": {},
   "outputs": [],
   "source": [
    "y_pred = pipeline.predict(x_test)"
   ]
  },
  {
   "cell_type": "markdown",
   "id": "0e8d959c",
   "metadata": {},
   "source": [
    "# Evaluate Model "
   ]
  },
  {
   "cell_type": "code",
   "execution_count": 138,
   "id": "6817d853",
   "metadata": {},
   "outputs": [
    {
     "data": {
      "image/png": "[encoded data removed]",
      "text/plain": [
       "<Figure size 432x288 with 1 Axes>"
      ]
     },
     "metadata": {
      "needs_background": "light"
     },
     "output_type": "display_data"
    }
   ],
   "source": [
    "from sklearn.metrics import confusion_matrix\n",
    "\n",
    "cm = confusion_matrix(y_test, y_pred)\n",
    "\n",
    "plt.figure(figsize=(6,4))\n",
    "sns.heatmap(cm, annot=True, fmt='d', cmap='Blues', cbar=False,\n",
    "            xticklabels=['Predicted No', 'Predicted Yes'],\n",
    "            yticklabels=['Actual No', 'Actual Yes'])\n",
    "plt.xlabel('Predicted')\n",
    "plt.ylabel('Actual')\n",
    "plt.title('Confusion Matrix')\n",
    "plt.show()\n"
   ]
  },
  {
   "cell_type": "code",
   "execution_count": 139,
   "id": "9439d9a1",
   "metadata": {},
   "outputs": [
    {
     "data": {
      "image/png": "[encoded data removed]",
      "text/plain": [
       "<Figure size 576x360 with 1 Axes>"
      ]
     },
     "metadata": {
      "needs_background": "light"
     },
     "output_type": "display_data"
    }
   ],
   "source": [
    "from sklearn.metrics import accuracy_score, precision_score, recall_score, f1_score\n",
    "\n",
    "\n",
    "acc = accuracy_score(y_test, y_pred)\n",
    "prec = precision_score(y_test, y_pred)\n",
    "rec = recall_score(y_test, y_pred)\n",
    "f1 = f1_score(y_test, y_pred)\n",
    "\n",
    "metrics = ['Accuracy', 'Precision', 'Recall', 'F1 Score']\n",
    "values = [acc, prec, rec, f1]\n",
    "\n",
    "plt.figure(figsize=(8,5))\n",
    "sns.barplot(x=metrics, y=values, palette='viridis')\n",
    "plt.ylim(0, 1)\n",
    "plt.title('Evaluation Metrics')\n",
    "for i, v in enumerate(values):\n",
    "    plt.text(i, v + 0.02, f\"{v:.2f}\", ha='center', fontweight='bold')\n",
    "plt.show()\n"
   ]
  },
  {
   "cell_type": "code",
   "execution_count": 140,
   "id": "46da0b20",
   "metadata": {},
   "outputs": [
    {
     "data": {
      "text/plain": [
       "6"
      ]
     },
     "execution_count": 140,
     "metadata": {},
     "output_type": "execute_result"
    }
   ],
   "source": [
    "4+2"
   ]
  },
  {
   "cell_type": "code",
   "execution_count": 141,
   "id": "bbcf2fe5",
   "metadata": {},
   "outputs": [
    {
     "data": {
      "image/png": "[encoded data removed]",
      "text/plain": [
       "<Figure size 576x360 with 2 Axes>"
      ]
     },
     "metadata": {
      "needs_background": "light"
     },
     "output_type": "display_data"
    }
   ],
   "source": [
    "from sklearn.metrics import classification_report\n",
    "\n",
    "report = classification_report(y_test, y_pred, output_dict=True)\n",
    "\n",
    "report_df = pd.DataFrame(report).transpose()\n",
    "\n",
    "plt.figure(figsize=(8,5))\n",
    "sns.heatmap(report_df.iloc[:-1, :-1], annot=True, cmap=\"YlGnBu\")\n",
    "plt.title(\"Classification Report\")\n",
    "plt.show()\n"
   ]
  },
  {
   "cell_type": "code",
   "execution_count": 142,
   "id": "94eb6f1b",
   "metadata": {},
   "outputs": [
    {
     "data": {
      "image/png": "[encoded data removed]",
      "text/plain": [
       "<Figure size 432x288 with 1 Axes>"
      ]
     },
     "metadata": {
      "needs_background": "light"
     },
     "output_type": "display_data"
    }
   ],
   "source": [
    "from sklearn.metrics import roc_curve, auc\n",
    "\n",
    "y_proba = pipeline.predict_proba(x_test)[:, 1]\n",
    "\n",
    "fpr, tpr, thresholds = roc_curve(y_test, y_proba)\n",
    "roc_auc = auc(fpr, tpr)\n",
    "\n",
    "plt.figure(figsize=(6,4))\n",
    "plt.plot(fpr, tpr, label=f'ROC Curve (AUC = {roc_auc:.2f})')\n",
    "plt.plot([0,1], [0,1], linestyle='--')\n",
    "plt.xlabel('False Positive Rate')\n",
    "plt.ylabel('True Positive Rate')\n",
    "plt.title('Receiver Operating Characteristic (ROC)')\n",
    "plt.legend()\n",
    "plt.show()\n"
   ]
  },
  {
   "cell_type": "markdown",
   "id": "b978246c",
   "metadata": {},
   "source": [
    "# Save Model"
   ]
  },
  {
   "cell_type": "code",
   "execution_count": 143,
   "id": "38815a78",
   "metadata": {},
   "outputs": [
    {
     "data": {
      "text/plain": [
       "['churn_model.pkl']"
      ]
     },
     "execution_count": 143,
     "metadata": {},
     "output_type": "execute_result"
    }
   ],
   "source": [
    "import joblib \n",
    "\n",
    "joblib.dump(pipeline, 'churn_model.pkl')"
   ]
  }
 ],
 "metadata": {
  "kernelspec": {
   "display_name": "neural",
   "language": "python",
   "name": "python3"
  },
  "language_info": {
   "codemirror_mode": {
    "name": "ipython",
    "version": 3
   },
   "file_extension": ".py",
   "mimetype": "text/x-python",
   "name": "python",
   "nbconvert_exporter": "python",
   "pygments_lexer": "ipython3",
   "version": "3.6.13"
  }
 },
 "nbformat": 4,
 "nbformat_minor": 5
}
